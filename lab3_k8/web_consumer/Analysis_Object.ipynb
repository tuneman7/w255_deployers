{
 "cells": [
  {
   "cell_type": "code",
   "execution_count": 3,
   "id": "00161eae",
   "metadata": {},
   "outputs": [
    {
     "name": "stdout",
     "output_type": "stream",
     "text": [
      "Requirement already satisfied: altair in ./w210_web/lib/python3.9/site-packages (4.2.0)\n",
      "Requirement already satisfied: pandas>=0.18 in ./w210_web/lib/python3.9/site-packages (from altair) (1.5.1)\n",
      "Requirement already satisfied: numpy in ./w210_web/lib/python3.9/site-packages (from altair) (1.23.4)\n",
      "Requirement already satisfied: toolz in ./w210_web/lib/python3.9/site-packages (from altair) (0.12.0)\n",
      "Requirement already satisfied: jinja2 in ./w210_web/lib/python3.9/site-packages (from altair) (3.0.3)\n",
      "Requirement already satisfied: entrypoints in ./w210_web/lib/python3.9/site-packages (from altair) (0.4)\n",
      "Requirement already satisfied: jsonschema>=3.0 in ./w210_web/lib/python3.9/site-packages (from altair) (3.2.0)\n",
      "Requirement already satisfied: pyrsistent>=0.14.0 in ./w210_web/lib/python3.9/site-packages (from jsonschema>=3.0->altair) (0.19.2)\n",
      "Requirement already satisfied: six>=1.11.0 in ./w210_web/lib/python3.9/site-packages (from jsonschema>=3.0->altair) (1.16.0)\n",
      "Requirement already satisfied: setuptools in ./w210_web/lib/python3.9/site-packages (from jsonschema>=3.0->altair) (57.4.0)\n",
      "Requirement already satisfied: attrs>=17.4.0 in ./w210_web/lib/python3.9/site-packages (from jsonschema>=3.0->altair) (22.1.0)\n",
      "Requirement already satisfied: python-dateutil>=2.8.1 in ./w210_web/lib/python3.9/site-packages (from pandas>=0.18->altair) (2.8.2)\n",
      "Requirement already satisfied: pytz>=2020.1 in ./w210_web/lib/python3.9/site-packages (from pandas>=0.18->altair) (2022.6)\n",
      "Requirement already satisfied: MarkupSafe>=2.0 in ./w210_web/lib/python3.9/site-packages (from jinja2->altair) (2.0.1)\n",
      "\u001b[33mWARNING: You are using pip version 21.2.3; however, version 22.3 is available.\n",
      "You should consider upgrading via the '/data/school/MIDS/w210/w210_sec_008_capstone/web_application/w210_web/bin/python3 -m pip install --upgrade pip' command.\u001b[0m\n"
     ]
    },
    {
     "ename": "ModuleNotFoundError",
     "evalue": "No module named 'altair'",
     "output_type": "error",
     "traceback": [
      "\u001b[0;31m---------------------------------------------------------------------------\u001b[0m",
      "\u001b[0;31mModuleNotFoundError\u001b[0m                       Traceback (most recent call last)",
      "\u001b[0;32m/tmp/ipykernel_1481991/4211950620.py\u001b[0m in \u001b[0;36m<module>\u001b[0;34m\u001b[0m\n\u001b[1;32m      1\u001b[0m \u001b[0mget_ipython\u001b[0m\u001b[0;34m(\u001b[0m\u001b[0;34m)\u001b[0m\u001b[0;34m.\u001b[0m\u001b[0msystem\u001b[0m\u001b[0;34m(\u001b[0m\u001b[0;34m'pip install altair'\u001b[0m\u001b[0;34m)\u001b[0m\u001b[0;34m\u001b[0m\u001b[0;34m\u001b[0m\u001b[0m\n\u001b[1;32m      2\u001b[0m \u001b[0;34m\u001b[0m\u001b[0m\n\u001b[0;32m----> 3\u001b[0;31m \u001b[0;32mimport\u001b[0m \u001b[0maltair\u001b[0m\u001b[0;34m\u001b[0m\u001b[0;34m\u001b[0m\u001b[0m\n\u001b[0m\u001b[1;32m      4\u001b[0m \u001b[0;32mfrom\u001b[0m \u001b[0mlibraries\u001b[0m\u001b[0;34m.\u001b[0m\u001b[0manalysis_object\u001b[0m \u001b[0;32mimport\u001b[0m \u001b[0manalysis_object\u001b[0m \u001b[0;32mas\u001b[0m \u001b[0mAnalysis\u001b[0m\u001b[0;34m\u001b[0m\u001b[0;34m\u001b[0m\u001b[0m\n\u001b[1;32m      5\u001b[0m \u001b[0;34m\u001b[0m\u001b[0m\n",
      "\u001b[0;31mModuleNotFoundError\u001b[0m: No module named 'altair'"
     ]
    }
   ],
   "source": [
    "!pip install altair\n",
    "\n",
    "import altair\n",
    "from libraries.analysis_object import analysis_object as Analysis\n",
    "\n",
    "\n",
    "my_ao = Analysis(\"clark_nv\")"
   ]
  },
  {
   "cell_type": "code",
   "execution_count": null,
   "id": "bb0f2e28",
   "metadata": {},
   "outputs": [],
   "source": []
  }
 ],
 "metadata": {
  "kernelspec": {
   "display_name": "w210_web",
   "language": "python",
   "name": "w210_web"
  },
  "language_info": {
   "codemirror_mode": {
    "name": "ipython",
    "version": 3
   },
   "file_extension": ".py",
   "mimetype": "text/x-python",
   "name": "python",
   "nbconvert_exporter": "python",
   "pygments_lexer": "ipython3",
   "version": "3.9.7"
  }
 },
 "nbformat": 4,
 "nbformat_minor": 5
}
