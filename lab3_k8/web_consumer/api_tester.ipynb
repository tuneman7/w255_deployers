{
 "cells": [
  {
   "cell_type": "code",
   "execution_count": 1,
   "id": "82090b50",
   "metadata": {},
   "outputs": [
    {
     "name": "stderr",
     "output_type": "stream",
     "text": [
      "/tmp/ipykernel_834621/1270873248.py:9: DeprecationWarning: the imp module is deprecated in favour of importlib and slated for removal in Python 3.12; see the module's documentation for alternative uses\n",
      "  import imp\n"
     ]
    }
   ],
   "source": [
    "import os\n",
    "import sys\n",
    "import json\n",
    "from datetime import datetime\n",
    "from os import system, name\n",
    "from time import sleep\n",
    "import copy\n",
    "import threading\n",
    "import imp\n",
    "import numpy as np\n",
    "import altair as alt\n",
    "import matplotlib.pyplot as plt\n",
    "import matplotlib.dates as mdates\n",
    "import pandas as pd\n",
    "import pandasql as psql\n",
    "from  libraries.utility import Utility\n",
    "\n",
    "from libraries.data_objects import data_objects\n"
   ]
  },
  {
   "cell_type": "code",
   "execution_count": 2,
   "id": "bed739d4",
   "metadata": {},
   "outputs": [],
   "source": [
    "mdo = data_objects()"
   ]
  },
  {
   "cell_type": "code",
   "execution_count": 3,
   "id": "12dc5d8b",
   "metadata": {},
   "outputs": [],
   "source": [
    "df=mdo.ca_city_lat_long_df()"
   ]
  },
  {
   "cell_type": "code",
   "execution_count": 4,
   "id": "39bda8d3",
   "metadata": {
    "scrolled": true
   },
   "outputs": [
    {
     "data": {
      "text/html": [
       "<div>\n",
       "<style scoped>\n",
       "    .dataframe tbody tr th:only-of-type {\n",
       "        vertical-align: middle;\n",
       "    }\n",
       "\n",
       "    .dataframe tbody tr th {\n",
       "        vertical-align: top;\n",
       "    }\n",
       "\n",
       "    .dataframe thead th {\n",
       "        text-align: right;\n",
       "    }\n",
       "</style>\n",
       "<table border=\"1\" class=\"dataframe\">\n",
       "  <thead>\n",
       "    <tr style=\"text-align: right;\">\n",
       "      <th></th>\n",
       "      <th>city</th>\n",
       "      <th>Latitude</th>\n",
       "      <th>Longitude</th>\n",
       "    </tr>\n",
       "  </thead>\n",
       "  <tbody>\n",
       "    <tr>\n",
       "      <th>0</th>\n",
       "      <td>Adelanto</td>\n",
       "      <td>34.582769</td>\n",
       "      <td>-117.409214</td>\n",
       "    </tr>\n",
       "    <tr>\n",
       "      <th>1</th>\n",
       "      <td>Agoura Hills</td>\n",
       "      <td>34.153339</td>\n",
       "      <td>-118.761675</td>\n",
       "    </tr>\n",
       "    <tr>\n",
       "      <th>2</th>\n",
       "      <td>Alameda</td>\n",
       "      <td>37.765206</td>\n",
       "      <td>-122.241636</td>\n",
       "    </tr>\n",
       "    <tr>\n",
       "      <th>3</th>\n",
       "      <td>Albany</td>\n",
       "      <td>37.886869</td>\n",
       "      <td>-122.297747</td>\n",
       "    </tr>\n",
       "    <tr>\n",
       "      <th>4</th>\n",
       "      <td>Alhambra</td>\n",
       "      <td>34.095286</td>\n",
       "      <td>-118.127014</td>\n",
       "    </tr>\n",
       "  </tbody>\n",
       "</table>\n",
       "</div>"
      ],
      "text/plain": [
       "           city   Latitude   Longitude\n",
       "0      Adelanto  34.582769 -117.409214\n",
       "1  Agoura Hills  34.153339 -118.761675\n",
       "2       Alameda  37.765206 -122.241636\n",
       "3        Albany  37.886869 -122.297747\n",
       "4      Alhambra  34.095286 -118.127014"
      ]
     },
     "execution_count": 4,
     "metadata": {},
     "output_type": "execute_result"
    }
   ],
   "source": [
    "df.head()"
   ]
  },
  {
   "cell_type": "code",
   "execution_count": 5,
   "id": "55652b3e",
   "metadata": {},
   "outputs": [
    {
     "data": {
      "text/html": [
       "<div>\n",
       "<style scoped>\n",
       "    .dataframe tbody tr th:only-of-type {\n",
       "        vertical-align: middle;\n",
       "    }\n",
       "\n",
       "    .dataframe tbody tr th {\n",
       "        vertical-align: top;\n",
       "    }\n",
       "\n",
       "    .dataframe thead th {\n",
       "        text-align: right;\n",
       "    }\n",
       "</style>\n",
       "<table border=\"1\" class=\"dataframe\">\n",
       "  <thead>\n",
       "    <tr style=\"text-align: right;\">\n",
       "      <th></th>\n",
       "      <th>city</th>\n",
       "      <th>lat_long</th>\n",
       "    </tr>\n",
       "  </thead>\n",
       "  <tbody>\n",
       "    <tr>\n",
       "      <th>0</th>\n",
       "      <td>Adelanto</td>\n",
       "      <td>34.582769,-117.409214</td>\n",
       "    </tr>\n",
       "    <tr>\n",
       "      <th>1</th>\n",
       "      <td>Agoura Hills</td>\n",
       "      <td>34.153339,-118.761675</td>\n",
       "    </tr>\n",
       "    <tr>\n",
       "      <th>2</th>\n",
       "      <td>Alameda</td>\n",
       "      <td>37.765206,-122.241636</td>\n",
       "    </tr>\n",
       "    <tr>\n",
       "      <th>3</th>\n",
       "      <td>Albany</td>\n",
       "      <td>37.886869,-122.297747</td>\n",
       "    </tr>\n",
       "    <tr>\n",
       "      <th>4</th>\n",
       "      <td>Alhambra</td>\n",
       "      <td>34.095286,-118.127014</td>\n",
       "    </tr>\n",
       "  </tbody>\n",
       "</table>\n",
       "</div>"
      ],
      "text/plain": [
       "           city               lat_long\n",
       "0      Adelanto  34.582769,-117.409214\n",
       "1  Agoura Hills  34.153339,-118.761675\n",
       "2       Alameda  37.765206,-122.241636\n",
       "3        Albany  37.886869,-122.297747\n",
       "4      Alhambra  34.095286,-118.127014"
      ]
     },
     "execution_count": 5,
     "metadata": {},
     "output_type": "execute_result"
    }
   ],
   "source": [
    "sql = '''\n",
    "select city, Latitude ||','|| Longitude as lat_long from df\n",
    "'''\n",
    "psql.sqldf(sql).head(5)"
   ]
  },
  {
   "cell_type": "code",
   "execution_count": 6,
   "id": "2ca2ad1b",
   "metadata": {},
   "outputs": [],
   "source": [
    "df=pd.DataFrame(mdo.ca_pop_df())"
   ]
  },
  {
   "cell_type": "code",
   "execution_count": 7,
   "id": "2646b337",
   "metadata": {},
   "outputs": [
    {
     "data": {
      "text/html": [
       "<div>\n",
       "<style scoped>\n",
       "    .dataframe tbody tr th:only-of-type {\n",
       "        vertical-align: middle;\n",
       "    }\n",
       "\n",
       "    .dataframe tbody tr th {\n",
       "        vertical-align: top;\n",
       "    }\n",
       "\n",
       "    .dataframe thead th {\n",
       "        text-align: right;\n",
       "    }\n",
       "</style>\n",
       "<table border=\"1\" class=\"dataframe\">\n",
       "  <thead>\n",
       "    <tr style=\"text-align: right;\">\n",
       "      <th></th>\n",
       "      <th>population</th>\n",
       "    </tr>\n",
       "  </thead>\n",
       "  <tbody>\n",
       "    <tr>\n",
       "      <th>0</th>\n",
       "      <td>83089</td>\n",
       "    </tr>\n",
       "  </tbody>\n",
       "</table>\n",
       "</div>"
      ],
      "text/plain": [
       "   population\n",
       "0       83089"
      ]
     },
     "execution_count": 7,
     "metadata": {},
     "output_type": "execute_result"
    }
   ],
   "source": [
    "city='Alhambra'\n",
    "my_sql='''\n",
    "select\n",
    "pop_april_2010 as population\n",
    "from df\n",
    "where ltrim(rtrim(lower(City))) = \\'''' + city.strip().lower() + '''\\'\n",
    "'''\n",
    "psql.sqldf(my_sql)"
   ]
  },
  {
   "cell_type": "code",
   "execution_count": 8,
   "id": "de2a7a7c",
   "metadata": {},
   "outputs": [
    {
     "data": {
      "text/html": [
       "<div>\n",
       "<style scoped>\n",
       "    .dataframe tbody tr th:only-of-type {\n",
       "        vertical-align: middle;\n",
       "    }\n",
       "\n",
       "    .dataframe tbody tr th {\n",
       "        vertical-align: top;\n",
       "    }\n",
       "\n",
       "    .dataframe thead th {\n",
       "        text-align: right;\n",
       "    }\n",
       "</style>\n",
       "<table border=\"1\" class=\"dataframe\">\n",
       "  <thead>\n",
       "    <tr style=\"text-align: right;\">\n",
       "      <th></th>\n",
       "      <th>population</th>\n",
       "    </tr>\n",
       "  </thead>\n",
       "  <tbody>\n",
       "    <tr>\n",
       "      <th>0</th>\n",
       "      <td>83089</td>\n",
       "    </tr>\n",
       "  </tbody>\n",
       "</table>\n",
       "</div>"
      ],
      "text/plain": [
       "   population\n",
       "0       83089"
      ]
     },
     "execution_count": 8,
     "metadata": {},
     "output_type": "execute_result"
    }
   ],
   "source": [
    "city='Alhambra'\n",
    "mdo.ca_pop_by_city(city=city)"
   ]
  },
  {
   "cell_type": "code",
   "execution_count": 9,
   "id": "3ea573ab",
   "metadata": {},
   "outputs": [
    {
     "data": {
      "text/plain": [
       "((600, 600),\n",
       " (1200, 1200),\n",
       " (1800, 1800),\n",
       " (2400, 2400),\n",
       " (3000, 3000),\n",
       " (3600, 3600),\n",
       " (4800, 4800),\n",
       " (5400, 5400),\n",
       " (6000, 6000))"
      ]
     },
     "execution_count": 9,
     "metadata": {},
     "output_type": "execute_result"
    }
   ],
   "source": [
    "mdo.bg_pop_tuple()"
   ]
  }
 ],
 "metadata": {
  "kernelspec": {
   "display_name": "Python 3 (ipykernel)",
   "language": "python",
   "name": "python3"
  },
  "language_info": {
   "codemirror_mode": {
    "name": "ipython",
    "version": 3
   },
   "file_extension": ".py",
   "mimetype": "text/x-python",
   "name": "python",
   "nbconvert_exporter": "python",
   "pygments_lexer": "ipython3",
   "version": "3.10.12"
  }
 },
 "nbformat": 4,
 "nbformat_minor": 5
}
