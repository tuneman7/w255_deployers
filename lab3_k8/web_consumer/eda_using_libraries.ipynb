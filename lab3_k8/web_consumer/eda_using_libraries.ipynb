{
 "cells": [
  {
   "cell_type": "code",
   "execution_count": 1,
   "id": "9008b152",
   "metadata": {},
   "outputs": [],
   "source": [
    "from libraries.import_export_data_objects import import_export_data as Import_Export_Data\n",
    "from libraries.altair_renderings import AltairRenderings\n",
    "from libraries.utility import Utility\n",
    "from libraries.mortgage_amort import Affordability as af\n",
    "import os\n",
    "import altair as alt\n",
    "my_altair = AltairRenderings()\n",
    "my_data = Import_Export_Data()\n",
    "import pandas as pd"
   ]
  },
  {
   "cell_type": "code",
   "execution_count": 2,
   "id": "bb8d1496",
   "metadata": {},
   "outputs": [
    {
     "name": "stdout",
     "output_type": "stream",
     "text": [
      "my_location= 6.5\n",
      "my_location= 20\n",
      "   Interest Rate  What I Can Afford\n",
      "0           1.50             544000\n",
      "1           1.75             525000\n",
      "****************************************\n",
      "    Interest Rate  What I Can Afford\n",
      "20            6.5             297000\n"
     ]
    },
    {
     "ename": "ValueError",
     "evalue": "Interest Rate encoding field is specified without a type; the type cannot be automatically inferred because the data is not specified as a pandas.DataFrame.",
     "output_type": "error",
     "traceback": [
      "\u001b[0;31m---------------------------------------------------------------------------\u001b[0m",
      "\u001b[0;31mValueError\u001b[0m                                Traceback (most recent call last)",
      "Cell \u001b[0;32mIn [2], line 2\u001b[0m\n\u001b[1;32m      1\u001b[0m myaf \u001b[38;5;241m=\u001b[39m af()\n\u001b[0;32m----> 2\u001b[0m altair_object, line_chart,loan_amt,monthly_allocation, home_amount, down_payment_amount, down_payment_pct, interest_rate , df , output_string \u001b[38;5;241m=\u001b[39m myaf\u001b[38;5;241m.\u001b[39mhow_much_can_i_afford(monthly_allocation\u001b[38;5;241m=\u001b[39m\u001b[38;5;241m1500\u001b[39m)\n\u001b[1;32m      3\u001b[0m \u001b[38;5;66;03m#myaf.how_much_can_i_afford(monthly_allocation=15000,print_output=True)\u001b[39;00m\n\u001b[1;32m      4\u001b[0m \u001b[38;5;28mprint\u001b[39m(output_string)\n",
      "File \u001b[0;32m~/system_data_folder/00AA_SCHOOL/MIDS/w210/w210_sec_008_capstone/web_application/libraries/mortgage_amort.py:86\u001b[0m, in \u001b[0;36mAffordability.how_much_can_i_afford\u001b[0;34m(self, monthly_allocation, interest_rate, repayment_freq, down_payment_pct, input_years, input_loan, print_output, do_altair, recursive_call)\u001b[0m\n\u001b[1;32m     84\u001b[0m line_graph \u001b[38;5;241m=\u001b[39m \u001b[38;5;28;01mNone\u001b[39;00m\n\u001b[1;32m     85\u001b[0m \u001b[38;5;28;01mif\u001b[39;00m \u001b[38;5;129;01mnot\u001b[39;00m recursive_call:\n\u001b[0;32m---> 86\u001b[0m     line_graph \u001b[38;5;241m=\u001b[39m \u001b[38;5;28;43mself\u001b[39;49m\u001b[38;5;241;43m.\u001b[39;49m\u001b[43mgenerate_steps_up_and_down_data\u001b[49m\u001b[43m(\u001b[49m\u001b[43mmonthly_allocation\u001b[49m\u001b[38;5;241;43m=\u001b[39;49m\u001b[43mmonthly_allocation\u001b[49m\u001b[43m,\u001b[49m\u001b[43m \u001b[49m\u001b[43minterest_rate\u001b[49m\u001b[43m \u001b[49m\u001b[38;5;241;43m=\u001b[39;49m\u001b[43m \u001b[49m\u001b[43minterest_rate\u001b[49m\u001b[43m,\u001b[49m\u001b[43m \u001b[49m\n\u001b[1;32m     87\u001b[0m \u001b[43m    \u001b[49m\u001b[43mrepayment_freq\u001b[49m\u001b[43m \u001b[49m\u001b[38;5;241;43m=\u001b[39;49m\u001b[43m \u001b[49m\u001b[43mrepayment_freq\u001b[49m\u001b[43m,\u001b[49m\u001b[43m \u001b[49m\u001b[43mdown_payment_pct\u001b[49m\u001b[43m \u001b[49m\u001b[38;5;241;43m=\u001b[39;49m\u001b[43m \u001b[49m\u001b[43mdown_payment_pct\u001b[49m\u001b[43m,\u001b[49m\u001b[43m \u001b[49m\n\u001b[1;32m     88\u001b[0m \u001b[43m    \u001b[49m\u001b[43minput_years\u001b[49m\u001b[43m \u001b[49m\u001b[38;5;241;43m=\u001b[39;49m\u001b[43m \u001b[49m\u001b[43minput_years\u001b[49m\u001b[43m,\u001b[49m\u001b[43m \u001b[49m\u001b[43minput_loan\u001b[49m\u001b[43m \u001b[49m\u001b[38;5;241;43m=\u001b[39;49m\u001b[43m \u001b[49m\u001b[43minput_loan\u001b[49m\u001b[43m,\u001b[49m\u001b[43mprint_output\u001b[49m\u001b[38;5;241;43m=\u001b[39;49m\u001b[43mprint_output\u001b[49m\u001b[43m)\u001b[49m\n\u001b[1;32m     90\u001b[0m \u001b[38;5;28;01mreturn\u001b[39;00m altair_object, line_graph, loan_amt, monthly_allocation, input_loan, down_payment_amount, down_payment_pct, interest_rate , df , output_string\n",
      "File \u001b[0;32m~/system_data_folder/00AA_SCHOOL/MIDS/w210/w210_sec_008_capstone/web_application/libraries/mortgage_amort.py:127\u001b[0m, in \u001b[0;36mAffordability.generate_steps_up_and_down_data\u001b[0;34m(self, monthly_allocation, interest_rate, repayment_freq, down_payment_pct, input_years, input_loan, print_output)\u001b[0m\n\u001b[1;32m    125\u001b[0m \u001b[38;5;28mprint\u001b[39m(output_df\u001b[38;5;241m.\u001b[39mloc[[my_location],:])\n\u001b[1;32m    126\u001b[0m \u001b[38;5;66;03m#print(output_df)\u001b[39;00m\n\u001b[0;32m--> 127\u001b[0m create_line_graph \u001b[38;5;241m=\u001b[39m \u001b[38;5;28;43mself\u001b[39;49m\u001b[38;5;241;43m.\u001b[39;49m\u001b[43mcreate_line_graph\u001b[49m\u001b[43m(\u001b[49m\u001b[43moutput_df\u001b[49m\u001b[43m,\u001b[49m\u001b[43mmonthly_allocation\u001b[49m\u001b[43m,\u001b[49m\u001b[43mmy_location\u001b[49m\u001b[43m)\u001b[49m\n\u001b[1;32m    128\u001b[0m \u001b[38;5;66;03m#print(output_df)\u001b[39;00m\n\u001b[1;32m    129\u001b[0m \u001b[38;5;28;01mreturn\u001b[39;00m create_line_graph\n",
      "File \u001b[0;32m~/system_data_folder/00AA_SCHOOL/MIDS/w210/w210_sec_008_capstone/web_application/libraries/mortgage_amort.py:157\u001b[0m, in \u001b[0;36mAffordability.create_line_graph\u001b[0;34m(self, df, monthly_allocation, my_location)\u001b[0m\n\u001b[1;32m    145\u001b[0m \u001b[38;5;66;03m#Throw points on so that the tool tips will work better.\u001b[39;00m\n\u001b[1;32m    146\u001b[0m points \u001b[38;5;241m=\u001b[39m base\u001b[38;5;241m.\u001b[39mmark_circle(\n\u001b[1;32m    147\u001b[0m     color\u001b[38;5;241m=\u001b[39m\u001b[38;5;124m'\u001b[39m\u001b[38;5;124mred\u001b[39m\u001b[38;5;124m'\u001b[39m,\n\u001b[1;32m    148\u001b[0m     opacity\u001b[38;5;241m=\u001b[39m\u001b[38;5;241m0.0\u001b[39m,\n\u001b[0;32m   (...)\u001b[0m\n\u001b[1;32m    154\u001b[0m              alt\u001b[38;5;241m.\u001b[39mTooltip(\u001b[38;5;124m\"\u001b[39m\u001b[38;5;124mWhat I Can Afford\u001b[39m\u001b[38;5;124m\"\u001b[39m,\u001b[38;5;28mformat\u001b[39m\u001b[38;5;241m=\u001b[39m\u001b[38;5;124m\"\u001b[39m\u001b[38;5;124m$,.0f\u001b[39m\u001b[38;5;124m\"\u001b[39m )]\n\u001b[1;32m    155\u001b[0m )\n\u001b[0;32m--> 157\u001b[0m callout \u001b[38;5;241m=\u001b[39m \u001b[43malt\u001b[49m\u001b[38;5;241;43m.\u001b[39;49m\u001b[43mChart\u001b[49m\u001b[43m(\u001b[49m\u001b[43mdf\u001b[49m\u001b[38;5;241;43m.\u001b[39;49m\u001b[43mloc\u001b[49m\u001b[43m[\u001b[49m\u001b[43m[\u001b[49m\u001b[43mmy_location\u001b[49m\u001b[43m]\u001b[49m\u001b[43m,\u001b[49m\u001b[43m:\u001b[49m\u001b[43m]\u001b[49m\u001b[43m)\u001b[49m\u001b[38;5;241;43m.\u001b[39;49m\u001b[43mmark_point\u001b[49m\u001b[43m(\u001b[49m\n\u001b[1;32m    158\u001b[0m \u001b[43m    \u001b[49m\u001b[43mcolor\u001b[49m\u001b[38;5;241;43m=\u001b[39;49m\u001b[38;5;124;43m'\u001b[39;49m\u001b[38;5;124;43mred\u001b[39;49m\u001b[38;5;124;43m'\u001b[39;49m\u001b[43m,\u001b[49m\u001b[43m \u001b[49m\u001b[43msize\u001b[49m\u001b[38;5;241;43m=\u001b[39;49m\u001b[38;5;241;43m1000\u001b[39;49m\u001b[43m,\u001b[49m\u001b[43m \u001b[49m\u001b[43mtooltip\u001b[49m\u001b[38;5;241;43m=\u001b[39;49m\u001b[43m[\u001b[49m\u001b[43malt\u001b[49m\u001b[38;5;241;43m.\u001b[39;49m\u001b[43mTooltip\u001b[49m\u001b[43m(\u001b[49m\u001b[38;5;124;43m\"\u001b[39;49m\u001b[38;5;124;43mInterest Rate\u001b[39;49m\u001b[38;5;124;43m\"\u001b[39;49m\u001b[43m)\u001b[49m\u001b[43m,\u001b[49m\n\u001b[1;32m    159\u001b[0m \u001b[43m             \u001b[49m\u001b[43malt\u001b[49m\u001b[38;5;241;43m.\u001b[39;49m\u001b[43mTooltip\u001b[49m\u001b[43m(\u001b[49m\u001b[38;5;124;43m\"\u001b[39;49m\u001b[38;5;124;43mWhat I Can Afford\u001b[39;49m\u001b[38;5;124;43m\"\u001b[39;49m\u001b[43m,\u001b[49m\u001b[38;5;28;43mformat\u001b[39;49m\u001b[38;5;241;43m=\u001b[39;49m\u001b[38;5;124;43m\"\u001b[39;49m\u001b[38;5;124;43m$,.0f\u001b[39;49m\u001b[38;5;124;43m\"\u001b[39;49m\u001b[43m \u001b[49m\u001b[43m)\u001b[49m\u001b[43m]\u001b[49m\u001b[43m,\u001b[49m\u001b[43m \u001b[49m\u001b[43mopacity\u001b[49m\u001b[38;5;241;43m=\u001b[39;49m\u001b[38;5;241;43m1\u001b[39;49m\n\u001b[1;32m    160\u001b[0m \u001b[43m\u001b[49m\u001b[43m)\u001b[49m      \n\u001b[1;32m    161\u001b[0m \u001b[38;5;66;03m#return_chart = alt.layer(line,points)\u001b[39;00m\n\u001b[1;32m    162\u001b[0m return_chart \u001b[38;5;241m=\u001b[39m alt\u001b[38;5;241m.\u001b[39mlayer(line,points,callout)\u001b[38;5;241m.\u001b[39mproperties(\n\u001b[1;32m    163\u001b[0m     width\u001b[38;5;241m=\u001b[39m\u001b[38;5;241m380\u001b[39m,\n\u001b[1;32m    164\u001b[0m     height\u001b[38;5;241m=\u001b[39m\u001b[38;5;241m200\u001b[39m,\n\u001b[1;32m    165\u001b[0m     title\u001b[38;5;241m=\u001b[39mtitle2\n\u001b[1;32m    166\u001b[0m )\n",
      "File \u001b[0;32m/Library/Frameworks/Python.framework/Versions/3.10/lib/python3.10/site-packages/altair/vegalite/v4/schema/mixins.py:360\u001b[0m, in \u001b[0;36mMarkMethodMixin.mark_point\u001b[0;34m(self, align, angle, aria, ariaRole, ariaRoleDescription, aspect, bandSize, baseline, binSpacing, blend, clip, color, continuousBandSize, cornerRadius, cornerRadiusBottomLeft, cornerRadiusBottomRight, cornerRadiusEnd, cornerRadiusTopLeft, cornerRadiusTopRight, cursor, description, dir, discreteBandSize, dx, dy, ellipsis, fill, fillOpacity, filled, font, fontSize, fontStyle, fontWeight, height, href, innerRadius, interpolate, invalid, limit, line, lineBreak, lineHeight, opacity, order, orient, outerRadius, padAngle, point, radius, radius2, radius2Offset, radiusOffset, shape, size, smooth, stroke, strokeCap, strokeDash, strokeDashOffset, strokeJoin, strokeMiterLimit, strokeOffset, strokeOpacity, strokeWidth, style, tension, text, theta, theta2, theta2Offset, thetaOffset, thickness, timeUnitBand, timeUnitBandPosition, tooltip, url, width, x, x2, x2Offset, xOffset, y, y2, y2Offset, yOffset, **kwds)\u001b[0m\n\u001b[1;32m    358\u001b[0m copy \u001b[38;5;241m=\u001b[39m \u001b[38;5;28mself\u001b[39m\u001b[38;5;241m.\u001b[39mcopy(deep\u001b[38;5;241m=\u001b[39m\u001b[38;5;28;01mFalse\u001b[39;00m)\n\u001b[1;32m    359\u001b[0m \u001b[38;5;28;01mif\u001b[39;00m \u001b[38;5;28many\u001b[39m(val \u001b[38;5;129;01mis\u001b[39;00m \u001b[38;5;129;01mnot\u001b[39;00m Undefined \u001b[38;5;28;01mfor\u001b[39;00m val \u001b[38;5;129;01min\u001b[39;00m kwds\u001b[38;5;241m.\u001b[39mvalues()):\n\u001b[0;32m--> 360\u001b[0m     copy\u001b[38;5;241m.\u001b[39mmark \u001b[38;5;241m=\u001b[39m \u001b[43mcore\u001b[49m\u001b[38;5;241;43m.\u001b[39;49m\u001b[43mMarkDef\u001b[49m\u001b[43m(\u001b[49m\u001b[38;5;28;43mtype\u001b[39;49m\u001b[38;5;241;43m=\u001b[39;49m\u001b[38;5;124;43m\"\u001b[39;49m\u001b[38;5;124;43mpoint\u001b[39;49m\u001b[38;5;124;43m\"\u001b[39;49m\u001b[43m,\u001b[49m\u001b[43m \u001b[49m\u001b[38;5;241;43m*\u001b[39;49m\u001b[38;5;241;43m*\u001b[39;49m\u001b[43mkwds\u001b[49m\u001b[43m)\u001b[49m\n\u001b[1;32m    361\u001b[0m \u001b[38;5;28;01melse\u001b[39;00m:\n\u001b[1;32m    362\u001b[0m     copy\u001b[38;5;241m.\u001b[39mmark \u001b[38;5;241m=\u001b[39m \u001b[38;5;124m\"\u001b[39m\u001b[38;5;124mpoint\u001b[39m\u001b[38;5;124m\"\u001b[39m\n",
      "File \u001b[0;32m/Library/Frameworks/Python.framework/Versions/3.10/lib/python3.10/site-packages/altair/vegalite/v4/schema/core.py:8619\u001b[0m, in \u001b[0;36mMarkDef.__init__\u001b[0;34m(self, type, align, angle, aria, ariaRole, ariaRoleDescription, aspect, bandSize, baseline, binSpacing, blend, clip, color, continuousBandSize, cornerRadius, cornerRadiusBottomLeft, cornerRadiusBottomRight, cornerRadiusEnd, cornerRadiusTopLeft, cornerRadiusTopRight, cursor, description, dir, discreteBandSize, dx, dy, ellipsis, fill, fillOpacity, filled, font, fontSize, fontStyle, fontWeight, height, href, innerRadius, interpolate, invalid, limit, line, lineBreak, lineHeight, opacity, order, orient, outerRadius, padAngle, point, radius, radius2, radius2Offset, radiusOffset, shape, size, smooth, stroke, strokeCap, strokeDash, strokeDashOffset, strokeJoin, strokeMiterLimit, strokeOffset, strokeOpacity, strokeWidth, style, tension, text, theta, theta2, theta2Offset, thetaOffset, thickness, timeUnitBand, timeUnitBandPosition, tooltip, url, width, x, x2, x2Offset, xOffset, y, y2, y2Offset, yOffset, **kwds)\u001b[0m\n\u001b[1;32m   8595\u001b[0m \u001b[38;5;28;01mdef\u001b[39;00m \u001b[38;5;21m__init__\u001b[39m(\u001b[38;5;28mself\u001b[39m, \u001b[38;5;28mtype\u001b[39m\u001b[38;5;241m=\u001b[39mUndefined, align\u001b[38;5;241m=\u001b[39mUndefined, angle\u001b[38;5;241m=\u001b[39mUndefined, aria\u001b[38;5;241m=\u001b[39mUndefined,\n\u001b[1;32m   8596\u001b[0m              ariaRole\u001b[38;5;241m=\u001b[39mUndefined, ariaRoleDescription\u001b[38;5;241m=\u001b[39mUndefined, aspect\u001b[38;5;241m=\u001b[39mUndefined,\n\u001b[1;32m   8597\u001b[0m              bandSize\u001b[38;5;241m=\u001b[39mUndefined, baseline\u001b[38;5;241m=\u001b[39mUndefined, binSpacing\u001b[38;5;241m=\u001b[39mUndefined, blend\u001b[38;5;241m=\u001b[39mUndefined,\n\u001b[0;32m   (...)\u001b[0m\n\u001b[1;32m   8617\u001b[0m              xOffset\u001b[38;5;241m=\u001b[39mUndefined, y\u001b[38;5;241m=\u001b[39mUndefined, y2\u001b[38;5;241m=\u001b[39mUndefined, y2Offset\u001b[38;5;241m=\u001b[39mUndefined, yOffset\u001b[38;5;241m=\u001b[39mUndefined,\n\u001b[1;32m   8618\u001b[0m              \u001b[38;5;241m*\u001b[39m\u001b[38;5;241m*\u001b[39mkwds):\n\u001b[0;32m-> 8619\u001b[0m     \u001b[38;5;28;43msuper\u001b[39;49m\u001b[43m(\u001b[49m\u001b[43mMarkDef\u001b[49m\u001b[43m,\u001b[49m\u001b[43m \u001b[49m\u001b[38;5;28;43mself\u001b[39;49m\u001b[43m)\u001b[49m\u001b[38;5;241;43m.\u001b[39;49m\u001b[38;5;21;43m__init__\u001b[39;49m\u001b[43m(\u001b[49m\u001b[38;5;28;43mtype\u001b[39;49m\u001b[38;5;241;43m=\u001b[39;49m\u001b[38;5;28;43mtype\u001b[39;49m\u001b[43m,\u001b[49m\u001b[43m \u001b[49m\u001b[43malign\u001b[49m\u001b[38;5;241;43m=\u001b[39;49m\u001b[43malign\u001b[49m\u001b[43m,\u001b[49m\u001b[43m \u001b[49m\u001b[43mangle\u001b[49m\u001b[38;5;241;43m=\u001b[39;49m\u001b[43mangle\u001b[49m\u001b[43m,\u001b[49m\u001b[43m \u001b[49m\u001b[43maria\u001b[49m\u001b[38;5;241;43m=\u001b[39;49m\u001b[43maria\u001b[49m\u001b[43m,\u001b[49m\u001b[43m \u001b[49m\u001b[43mariaRole\u001b[49m\u001b[38;5;241;43m=\u001b[39;49m\u001b[43mariaRole\u001b[49m\u001b[43m,\u001b[49m\n\u001b[1;32m   8620\u001b[0m \u001b[43m                                  \u001b[49m\u001b[43mariaRoleDescription\u001b[49m\u001b[38;5;241;43m=\u001b[39;49m\u001b[43mariaRoleDescription\u001b[49m\u001b[43m,\u001b[49m\u001b[43m \u001b[49m\u001b[43maspect\u001b[49m\u001b[38;5;241;43m=\u001b[39;49m\u001b[43maspect\u001b[49m\u001b[43m,\u001b[49m\n\u001b[1;32m   8621\u001b[0m \u001b[43m                                  \u001b[49m\u001b[43mbandSize\u001b[49m\u001b[38;5;241;43m=\u001b[39;49m\u001b[43mbandSize\u001b[49m\u001b[43m,\u001b[49m\u001b[43m \u001b[49m\u001b[43mbaseline\u001b[49m\u001b[38;5;241;43m=\u001b[39;49m\u001b[43mbaseline\u001b[49m\u001b[43m,\u001b[49m\u001b[43m \u001b[49m\u001b[43mbinSpacing\u001b[49m\u001b[38;5;241;43m=\u001b[39;49m\u001b[43mbinSpacing\u001b[49m\u001b[43m,\u001b[49m\n\u001b[1;32m   8622\u001b[0m \u001b[43m                                  \u001b[49m\u001b[43mblend\u001b[49m\u001b[38;5;241;43m=\u001b[39;49m\u001b[43mblend\u001b[49m\u001b[43m,\u001b[49m\u001b[43m \u001b[49m\u001b[43mclip\u001b[49m\u001b[38;5;241;43m=\u001b[39;49m\u001b[43mclip\u001b[49m\u001b[43m,\u001b[49m\u001b[43m \u001b[49m\u001b[43mcolor\u001b[49m\u001b[38;5;241;43m=\u001b[39;49m\u001b[43mcolor\u001b[49m\u001b[43m,\u001b[49m\n\u001b[1;32m   8623\u001b[0m \u001b[43m                                  \u001b[49m\u001b[43mcontinuousBandSize\u001b[49m\u001b[38;5;241;43m=\u001b[39;49m\u001b[43mcontinuousBandSize\u001b[49m\u001b[43m,\u001b[49m\u001b[43m \u001b[49m\u001b[43mcornerRadius\u001b[49m\u001b[38;5;241;43m=\u001b[39;49m\u001b[43mcornerRadius\u001b[49m\u001b[43m,\u001b[49m\n\u001b[1;32m   8624\u001b[0m \u001b[43m                                  \u001b[49m\u001b[43mcornerRadiusBottomLeft\u001b[49m\u001b[38;5;241;43m=\u001b[39;49m\u001b[43mcornerRadiusBottomLeft\u001b[49m\u001b[43m,\u001b[49m\n\u001b[1;32m   8625\u001b[0m \u001b[43m                                  \u001b[49m\u001b[43mcornerRadiusBottomRight\u001b[49m\u001b[38;5;241;43m=\u001b[39;49m\u001b[43mcornerRadiusBottomRight\u001b[49m\u001b[43m,\u001b[49m\n\u001b[1;32m   8626\u001b[0m \u001b[43m                                  \u001b[49m\u001b[43mcornerRadiusEnd\u001b[49m\u001b[38;5;241;43m=\u001b[39;49m\u001b[43mcornerRadiusEnd\u001b[49m\u001b[43m,\u001b[49m\n\u001b[1;32m   8627\u001b[0m \u001b[43m                                  \u001b[49m\u001b[43mcornerRadiusTopLeft\u001b[49m\u001b[38;5;241;43m=\u001b[39;49m\u001b[43mcornerRadiusTopLeft\u001b[49m\u001b[43m,\u001b[49m\n\u001b[1;32m   8628\u001b[0m \u001b[43m                                  \u001b[49m\u001b[43mcornerRadiusTopRight\u001b[49m\u001b[38;5;241;43m=\u001b[39;49m\u001b[43mcornerRadiusTopRight\u001b[49m\u001b[43m,\u001b[49m\u001b[43m \u001b[49m\u001b[43mcursor\u001b[49m\u001b[38;5;241;43m=\u001b[39;49m\u001b[43mcursor\u001b[49m\u001b[43m,\u001b[49m\n\u001b[1;32m   8629\u001b[0m \u001b[43m                                  \u001b[49m\u001b[43mdescription\u001b[49m\u001b[38;5;241;43m=\u001b[39;49m\u001b[43mdescription\u001b[49m\u001b[43m,\u001b[49m\u001b[43m \u001b[49m\u001b[38;5;28;43mdir\u001b[39;49m\u001b[38;5;241;43m=\u001b[39;49m\u001b[38;5;28;43mdir\u001b[39;49m\u001b[43m,\u001b[49m\n\u001b[1;32m   8630\u001b[0m \u001b[43m                                  \u001b[49m\u001b[43mdiscreteBandSize\u001b[49m\u001b[38;5;241;43m=\u001b[39;49m\u001b[43mdiscreteBandSize\u001b[49m\u001b[43m,\u001b[49m\u001b[43m \u001b[49m\u001b[43mdx\u001b[49m\u001b[38;5;241;43m=\u001b[39;49m\u001b[43mdx\u001b[49m\u001b[43m,\u001b[49m\u001b[43m \u001b[49m\u001b[43mdy\u001b[49m\u001b[38;5;241;43m=\u001b[39;49m\u001b[43mdy\u001b[49m\u001b[43m,\u001b[49m\n\u001b[1;32m   8631\u001b[0m \u001b[43m                                  \u001b[49m\u001b[43mellipsis\u001b[49m\u001b[38;5;241;43m=\u001b[39;49m\u001b[43mellipsis\u001b[49m\u001b[43m,\u001b[49m\u001b[43m \u001b[49m\u001b[43mfill\u001b[49m\u001b[38;5;241;43m=\u001b[39;49m\u001b[43mfill\u001b[49m\u001b[43m,\u001b[49m\u001b[43m \u001b[49m\u001b[43mfillOpacity\u001b[49m\u001b[38;5;241;43m=\u001b[39;49m\u001b[43mfillOpacity\u001b[49m\u001b[43m,\u001b[49m\n\u001b[1;32m   8632\u001b[0m \u001b[43m                                  \u001b[49m\u001b[43mfilled\u001b[49m\u001b[38;5;241;43m=\u001b[39;49m\u001b[43mfilled\u001b[49m\u001b[43m,\u001b[49m\u001b[43m \u001b[49m\u001b[43mfont\u001b[49m\u001b[38;5;241;43m=\u001b[39;49m\u001b[43mfont\u001b[49m\u001b[43m,\u001b[49m\u001b[43m \u001b[49m\u001b[43mfontSize\u001b[49m\u001b[38;5;241;43m=\u001b[39;49m\u001b[43mfontSize\u001b[49m\u001b[43m,\u001b[49m\u001b[43m \u001b[49m\u001b[43mfontStyle\u001b[49m\u001b[38;5;241;43m=\u001b[39;49m\u001b[43mfontStyle\u001b[49m\u001b[43m,\u001b[49m\n\u001b[1;32m   8633\u001b[0m \u001b[43m                                  \u001b[49m\u001b[43mfontWeight\u001b[49m\u001b[38;5;241;43m=\u001b[39;49m\u001b[43mfontWeight\u001b[49m\u001b[43m,\u001b[49m\u001b[43m \u001b[49m\u001b[43mheight\u001b[49m\u001b[38;5;241;43m=\u001b[39;49m\u001b[43mheight\u001b[49m\u001b[43m,\u001b[49m\u001b[43m \u001b[49m\u001b[43mhref\u001b[49m\u001b[38;5;241;43m=\u001b[39;49m\u001b[43mhref\u001b[49m\u001b[43m,\u001b[49m\n\u001b[1;32m   8634\u001b[0m \u001b[43m                                  \u001b[49m\u001b[43minnerRadius\u001b[49m\u001b[38;5;241;43m=\u001b[39;49m\u001b[43minnerRadius\u001b[49m\u001b[43m,\u001b[49m\u001b[43m \u001b[49m\u001b[43minterpolate\u001b[49m\u001b[38;5;241;43m=\u001b[39;49m\u001b[43minterpolate\u001b[49m\u001b[43m,\u001b[49m\u001b[43m \u001b[49m\u001b[43minvalid\u001b[49m\u001b[38;5;241;43m=\u001b[39;49m\u001b[43minvalid\u001b[49m\u001b[43m,\u001b[49m\n\u001b[1;32m   8635\u001b[0m \u001b[43m                                  \u001b[49m\u001b[43mlimit\u001b[49m\u001b[38;5;241;43m=\u001b[39;49m\u001b[43mlimit\u001b[49m\u001b[43m,\u001b[49m\u001b[43m \u001b[49m\u001b[43mline\u001b[49m\u001b[38;5;241;43m=\u001b[39;49m\u001b[43mline\u001b[49m\u001b[43m,\u001b[49m\u001b[43m \u001b[49m\u001b[43mlineBreak\u001b[49m\u001b[38;5;241;43m=\u001b[39;49m\u001b[43mlineBreak\u001b[49m\u001b[43m,\u001b[49m\n\u001b[1;32m   8636\u001b[0m \u001b[43m                                  \u001b[49m\u001b[43mlineHeight\u001b[49m\u001b[38;5;241;43m=\u001b[39;49m\u001b[43mlineHeight\u001b[49m\u001b[43m,\u001b[49m\u001b[43m \u001b[49m\u001b[43mopacity\u001b[49m\u001b[38;5;241;43m=\u001b[39;49m\u001b[43mopacity\u001b[49m\u001b[43m,\u001b[49m\u001b[43m \u001b[49m\u001b[43morder\u001b[49m\u001b[38;5;241;43m=\u001b[39;49m\u001b[43morder\u001b[49m\u001b[43m,\u001b[49m\n\u001b[1;32m   8637\u001b[0m \u001b[43m                                  \u001b[49m\u001b[43morient\u001b[49m\u001b[38;5;241;43m=\u001b[39;49m\u001b[43morient\u001b[49m\u001b[43m,\u001b[49m\u001b[43m \u001b[49m\u001b[43mouterRadius\u001b[49m\u001b[38;5;241;43m=\u001b[39;49m\u001b[43mouterRadius\u001b[49m\u001b[43m,\u001b[49m\u001b[43m \u001b[49m\u001b[43mpadAngle\u001b[49m\u001b[38;5;241;43m=\u001b[39;49m\u001b[43mpadAngle\u001b[49m\u001b[43m,\u001b[49m\n\u001b[1;32m   8638\u001b[0m \u001b[43m                                  \u001b[49m\u001b[43mpoint\u001b[49m\u001b[38;5;241;43m=\u001b[39;49m\u001b[43mpoint\u001b[49m\u001b[43m,\u001b[49m\u001b[43m \u001b[49m\u001b[43mradius\u001b[49m\u001b[38;5;241;43m=\u001b[39;49m\u001b[43mradius\u001b[49m\u001b[43m,\u001b[49m\u001b[43m \u001b[49m\u001b[43mradius2\u001b[49m\u001b[38;5;241;43m=\u001b[39;49m\u001b[43mradius2\u001b[49m\u001b[43m,\u001b[49m\n\u001b[1;32m   8639\u001b[0m \u001b[43m                                  \u001b[49m\u001b[43mradius2Offset\u001b[49m\u001b[38;5;241;43m=\u001b[39;49m\u001b[43mradius2Offset\u001b[49m\u001b[43m,\u001b[49m\u001b[43m \u001b[49m\u001b[43mradiusOffset\u001b[49m\u001b[38;5;241;43m=\u001b[39;49m\u001b[43mradiusOffset\u001b[49m\u001b[43m,\u001b[49m\n\u001b[1;32m   8640\u001b[0m \u001b[43m                                  \u001b[49m\u001b[43mshape\u001b[49m\u001b[38;5;241;43m=\u001b[39;49m\u001b[43mshape\u001b[49m\u001b[43m,\u001b[49m\u001b[43m \u001b[49m\u001b[43msize\u001b[49m\u001b[38;5;241;43m=\u001b[39;49m\u001b[43msize\u001b[49m\u001b[43m,\u001b[49m\u001b[43m \u001b[49m\u001b[43msmooth\u001b[49m\u001b[38;5;241;43m=\u001b[39;49m\u001b[43msmooth\u001b[49m\u001b[43m,\u001b[49m\u001b[43m \u001b[49m\u001b[43mstroke\u001b[49m\u001b[38;5;241;43m=\u001b[39;49m\u001b[43mstroke\u001b[49m\u001b[43m,\u001b[49m\n\u001b[1;32m   8641\u001b[0m \u001b[43m                                  \u001b[49m\u001b[43mstrokeCap\u001b[49m\u001b[38;5;241;43m=\u001b[39;49m\u001b[43mstrokeCap\u001b[49m\u001b[43m,\u001b[49m\u001b[43m \u001b[49m\u001b[43mstrokeDash\u001b[49m\u001b[38;5;241;43m=\u001b[39;49m\u001b[43mstrokeDash\u001b[49m\u001b[43m,\u001b[49m\n\u001b[1;32m   8642\u001b[0m \u001b[43m                                  \u001b[49m\u001b[43mstrokeDashOffset\u001b[49m\u001b[38;5;241;43m=\u001b[39;49m\u001b[43mstrokeDashOffset\u001b[49m\u001b[43m,\u001b[49m\u001b[43m \u001b[49m\u001b[43mstrokeJoin\u001b[49m\u001b[38;5;241;43m=\u001b[39;49m\u001b[43mstrokeJoin\u001b[49m\u001b[43m,\u001b[49m\n\u001b[1;32m   8643\u001b[0m \u001b[43m                                  \u001b[49m\u001b[43mstrokeMiterLimit\u001b[49m\u001b[38;5;241;43m=\u001b[39;49m\u001b[43mstrokeMiterLimit\u001b[49m\u001b[43m,\u001b[49m\u001b[43m \u001b[49m\u001b[43mstrokeOffset\u001b[49m\u001b[38;5;241;43m=\u001b[39;49m\u001b[43mstrokeOffset\u001b[49m\u001b[43m,\u001b[49m\n\u001b[1;32m   8644\u001b[0m \u001b[43m                                  \u001b[49m\u001b[43mstrokeOpacity\u001b[49m\u001b[38;5;241;43m=\u001b[39;49m\u001b[43mstrokeOpacity\u001b[49m\u001b[43m,\u001b[49m\u001b[43m \u001b[49m\u001b[43mstrokeWidth\u001b[49m\u001b[38;5;241;43m=\u001b[39;49m\u001b[43mstrokeWidth\u001b[49m\u001b[43m,\u001b[49m\u001b[43m \u001b[49m\u001b[43mstyle\u001b[49m\u001b[38;5;241;43m=\u001b[39;49m\u001b[43mstyle\u001b[49m\u001b[43m,\u001b[49m\n\u001b[1;32m   8645\u001b[0m \u001b[43m                                  \u001b[49m\u001b[43mtension\u001b[49m\u001b[38;5;241;43m=\u001b[39;49m\u001b[43mtension\u001b[49m\u001b[43m,\u001b[49m\u001b[43m \u001b[49m\u001b[43mtext\u001b[49m\u001b[38;5;241;43m=\u001b[39;49m\u001b[43mtext\u001b[49m\u001b[43m,\u001b[49m\u001b[43m \u001b[49m\u001b[43mtheta\u001b[49m\u001b[38;5;241;43m=\u001b[39;49m\u001b[43mtheta\u001b[49m\u001b[43m,\u001b[49m\u001b[43m \u001b[49m\u001b[43mtheta2\u001b[49m\u001b[38;5;241;43m=\u001b[39;49m\u001b[43mtheta2\u001b[49m\u001b[43m,\u001b[49m\n\u001b[1;32m   8646\u001b[0m \u001b[43m                                  \u001b[49m\u001b[43mtheta2Offset\u001b[49m\u001b[38;5;241;43m=\u001b[39;49m\u001b[43mtheta2Offset\u001b[49m\u001b[43m,\u001b[49m\u001b[43m \u001b[49m\u001b[43mthetaOffset\u001b[49m\u001b[38;5;241;43m=\u001b[39;49m\u001b[43mthetaOffset\u001b[49m\u001b[43m,\u001b[49m\n\u001b[1;32m   8647\u001b[0m \u001b[43m                                  \u001b[49m\u001b[43mthickness\u001b[49m\u001b[38;5;241;43m=\u001b[39;49m\u001b[43mthickness\u001b[49m\u001b[43m,\u001b[49m\u001b[43m \u001b[49m\u001b[43mtimeUnitBand\u001b[49m\u001b[38;5;241;43m=\u001b[39;49m\u001b[43mtimeUnitBand\u001b[49m\u001b[43m,\u001b[49m\n\u001b[1;32m   8648\u001b[0m \u001b[43m                                  \u001b[49m\u001b[43mtimeUnitBandPosition\u001b[49m\u001b[38;5;241;43m=\u001b[39;49m\u001b[43mtimeUnitBandPosition\u001b[49m\u001b[43m,\u001b[49m\u001b[43m \u001b[49m\u001b[43mtooltip\u001b[49m\u001b[38;5;241;43m=\u001b[39;49m\u001b[43mtooltip\u001b[49m\u001b[43m,\u001b[49m\n\u001b[1;32m   8649\u001b[0m \u001b[43m                                  \u001b[49m\u001b[43murl\u001b[49m\u001b[38;5;241;43m=\u001b[39;49m\u001b[43murl\u001b[49m\u001b[43m,\u001b[49m\u001b[43m \u001b[49m\u001b[43mwidth\u001b[49m\u001b[38;5;241;43m=\u001b[39;49m\u001b[43mwidth\u001b[49m\u001b[43m,\u001b[49m\u001b[43m \u001b[49m\u001b[43mx\u001b[49m\u001b[38;5;241;43m=\u001b[39;49m\u001b[43mx\u001b[49m\u001b[43m,\u001b[49m\u001b[43m \u001b[49m\u001b[43mx2\u001b[49m\u001b[38;5;241;43m=\u001b[39;49m\u001b[43mx2\u001b[49m\u001b[43m,\u001b[49m\u001b[43m \u001b[49m\u001b[43mx2Offset\u001b[49m\u001b[38;5;241;43m=\u001b[39;49m\u001b[43mx2Offset\u001b[49m\u001b[43m,\u001b[49m\n\u001b[1;32m   8650\u001b[0m \u001b[43m                                  \u001b[49m\u001b[43mxOffset\u001b[49m\u001b[38;5;241;43m=\u001b[39;49m\u001b[43mxOffset\u001b[49m\u001b[43m,\u001b[49m\u001b[43m \u001b[49m\u001b[43my\u001b[49m\u001b[38;5;241;43m=\u001b[39;49m\u001b[43my\u001b[49m\u001b[43m,\u001b[49m\u001b[43m \u001b[49m\u001b[43my2\u001b[49m\u001b[38;5;241;43m=\u001b[39;49m\u001b[43my2\u001b[49m\u001b[43m,\u001b[49m\u001b[43m \u001b[49m\u001b[43my2Offset\u001b[49m\u001b[38;5;241;43m=\u001b[39;49m\u001b[43my2Offset\u001b[49m\u001b[43m,\u001b[49m\u001b[43m \u001b[49m\u001b[43myOffset\u001b[49m\u001b[38;5;241;43m=\u001b[39;49m\u001b[43myOffset\u001b[49m\u001b[43m,\u001b[49m\n\u001b[1;32m   8651\u001b[0m \u001b[43m                                  \u001b[49m\u001b[38;5;241;43m*\u001b[39;49m\u001b[38;5;241;43m*\u001b[39;49m\u001b[43mkwds\u001b[49m\u001b[43m)\u001b[49m\n",
      "File \u001b[0;32m/Library/Frameworks/Python.framework/Versions/3.10/lib/python3.10/site-packages/altair/vegalite/v4/schema/core.py:104\u001b[0m, in \u001b[0;36mAnyMark.__init__\u001b[0;34m(self, *args, **kwds)\u001b[0m\n\u001b[1;32m    103\u001b[0m \u001b[38;5;28;01mdef\u001b[39;00m \u001b[38;5;21m__init__\u001b[39m(\u001b[38;5;28mself\u001b[39m, \u001b[38;5;241m*\u001b[39margs, \u001b[38;5;241m*\u001b[39m\u001b[38;5;241m*\u001b[39mkwds):\n\u001b[0;32m--> 104\u001b[0m     \u001b[38;5;28;43msuper\u001b[39;49m\u001b[43m(\u001b[49m\u001b[43mAnyMark\u001b[49m\u001b[43m,\u001b[49m\u001b[43m \u001b[49m\u001b[38;5;28;43mself\u001b[39;49m\u001b[43m)\u001b[49m\u001b[38;5;241;43m.\u001b[39;49m\u001b[38;5;21;43m__init__\u001b[39;49m\u001b[43m(\u001b[49m\u001b[38;5;241;43m*\u001b[39;49m\u001b[43margs\u001b[49m\u001b[43m,\u001b[49m\u001b[43m \u001b[49m\u001b[38;5;241;43m*\u001b[39;49m\u001b[38;5;241;43m*\u001b[39;49m\u001b[43mkwds\u001b[49m\u001b[43m)\u001b[49m\n",
      "File \u001b[0;32m/Library/Frameworks/Python.framework/Versions/3.10/lib/python3.10/site-packages/altair/utils/schemapi.py:177\u001b[0m, in \u001b[0;36mSchemaBase.__init__\u001b[0;34m(self, *args, **kwds)\u001b[0m\n\u001b[1;32m    174\u001b[0m \u001b[38;5;28mobject\u001b[39m\u001b[38;5;241m.\u001b[39m\u001b[38;5;21m__setattr__\u001b[39m(\u001b[38;5;28mself\u001b[39m, \u001b[38;5;124m\"\u001b[39m\u001b[38;5;124m_kwds\u001b[39m\u001b[38;5;124m\"\u001b[39m, kwds)\n\u001b[1;32m    176\u001b[0m \u001b[38;5;28;01mif\u001b[39;00m DEBUG_MODE \u001b[38;5;129;01mand\u001b[39;00m \u001b[38;5;28mself\u001b[39m\u001b[38;5;241m.\u001b[39m_class_is_valid_at_instantiation:\n\u001b[0;32m--> 177\u001b[0m     \u001b[38;5;28;43mself\u001b[39;49m\u001b[38;5;241;43m.\u001b[39;49m\u001b[43mto_dict\u001b[49m\u001b[43m(\u001b[49m\u001b[43mvalidate\u001b[49m\u001b[38;5;241;43m=\u001b[39;49m\u001b[38;5;28;43;01mTrue\u001b[39;49;00m\u001b[43m)\u001b[49m\n",
      "File \u001b[0;32m/Library/Frameworks/Python.framework/Versions/3.10/lib/python3.10/site-packages/altair/utils/schemapi.py:326\u001b[0m, in \u001b[0;36mSchemaBase.to_dict\u001b[0;34m(self, validate, ignore, context)\u001b[0m\n\u001b[1;32m    324\u001b[0m     result \u001b[38;5;241m=\u001b[39m _todict(\u001b[38;5;28mself\u001b[39m\u001b[38;5;241m.\u001b[39m_args[\u001b[38;5;241m0\u001b[39m], validate\u001b[38;5;241m=\u001b[39msub_validate, context\u001b[38;5;241m=\u001b[39mcontext)\n\u001b[1;32m    325\u001b[0m \u001b[38;5;28;01melif\u001b[39;00m \u001b[38;5;129;01mnot\u001b[39;00m \u001b[38;5;28mself\u001b[39m\u001b[38;5;241m.\u001b[39m_args:\n\u001b[0;32m--> 326\u001b[0m     result \u001b[38;5;241m=\u001b[39m \u001b[43m_todict\u001b[49m\u001b[43m(\u001b[49m\n\u001b[1;32m    327\u001b[0m \u001b[43m        \u001b[49m\u001b[43m{\u001b[49m\u001b[43mk\u001b[49m\u001b[43m:\u001b[49m\u001b[43m \u001b[49m\u001b[43mv\u001b[49m\u001b[43m \u001b[49m\u001b[38;5;28;43;01mfor\u001b[39;49;00m\u001b[43m \u001b[49m\u001b[43mk\u001b[49m\u001b[43m,\u001b[49m\u001b[43m \u001b[49m\u001b[43mv\u001b[49m\u001b[43m \u001b[49m\u001b[38;5;129;43;01min\u001b[39;49;00m\u001b[43m \u001b[49m\u001b[38;5;28;43mself\u001b[39;49m\u001b[38;5;241;43m.\u001b[39;49m\u001b[43m_kwds\u001b[49m\u001b[38;5;241;43m.\u001b[39;49m\u001b[43mitems\u001b[49m\u001b[43m(\u001b[49m\u001b[43m)\u001b[49m\u001b[43m \u001b[49m\u001b[38;5;28;43;01mif\u001b[39;49;00m\u001b[43m \u001b[49m\u001b[43mk\u001b[49m\u001b[43m \u001b[49m\u001b[38;5;129;43;01mnot\u001b[39;49;00m\u001b[43m \u001b[49m\u001b[38;5;129;43;01min\u001b[39;49;00m\u001b[43m \u001b[49m\u001b[43mignore\u001b[49m\u001b[43m}\u001b[49m\u001b[43m,\u001b[49m\n\u001b[1;32m    328\u001b[0m \u001b[43m        \u001b[49m\u001b[43mvalidate\u001b[49m\u001b[38;5;241;43m=\u001b[39;49m\u001b[43msub_validate\u001b[49m\u001b[43m,\u001b[49m\n\u001b[1;32m    329\u001b[0m \u001b[43m        \u001b[49m\u001b[43mcontext\u001b[49m\u001b[38;5;241;43m=\u001b[39;49m\u001b[43mcontext\u001b[49m\u001b[43m,\u001b[49m\n\u001b[1;32m    330\u001b[0m \u001b[43m    \u001b[49m\u001b[43m)\u001b[49m\n\u001b[1;32m    331\u001b[0m \u001b[38;5;28;01melse\u001b[39;00m:\n\u001b[1;32m    332\u001b[0m     \u001b[38;5;28;01mraise\u001b[39;00m \u001b[38;5;167;01mValueError\u001b[39;00m(\n\u001b[1;32m    333\u001b[0m         \u001b[38;5;124m\"\u001b[39m\u001b[38;5;132;01m{}\u001b[39;00m\u001b[38;5;124m instance has both a value and properties : \u001b[39m\u001b[38;5;124m\"\u001b[39m\n\u001b[1;32m    334\u001b[0m         \u001b[38;5;124m\"\u001b[39m\u001b[38;5;124mcannot serialize to dict\u001b[39m\u001b[38;5;124m\"\u001b[39m\u001b[38;5;241m.\u001b[39mformat(\u001b[38;5;28mself\u001b[39m\u001b[38;5;241m.\u001b[39m\u001b[38;5;18m__class__\u001b[39m)\n\u001b[1;32m    335\u001b[0m     )\n",
      "File \u001b[0;32m/Library/Frameworks/Python.framework/Versions/3.10/lib/python3.10/site-packages/altair/utils/schemapi.py:60\u001b[0m, in \u001b[0;36m_todict\u001b[0;34m(obj, validate, context)\u001b[0m\n\u001b[1;32m     58\u001b[0m     \u001b[38;5;28;01mreturn\u001b[39;00m [_todict(v, validate, context) \u001b[38;5;28;01mfor\u001b[39;00m v \u001b[38;5;129;01min\u001b[39;00m obj]\n\u001b[1;32m     59\u001b[0m \u001b[38;5;28;01melif\u001b[39;00m \u001b[38;5;28misinstance\u001b[39m(obj, \u001b[38;5;28mdict\u001b[39m):\n\u001b[0;32m---> 60\u001b[0m     \u001b[38;5;28;01mreturn\u001b[39;00m {\n\u001b[1;32m     61\u001b[0m         k: _todict(v, validate, context)\n\u001b[1;32m     62\u001b[0m         \u001b[38;5;28;01mfor\u001b[39;00m k, v \u001b[38;5;129;01min\u001b[39;00m obj\u001b[38;5;241m.\u001b[39mitems()\n\u001b[1;32m     63\u001b[0m         \u001b[38;5;28;01mif\u001b[39;00m v \u001b[38;5;129;01mis\u001b[39;00m \u001b[38;5;129;01mnot\u001b[39;00m Undefined\n\u001b[1;32m     64\u001b[0m     }\n\u001b[1;32m     65\u001b[0m \u001b[38;5;28;01melif\u001b[39;00m \u001b[38;5;28mhasattr\u001b[39m(obj, \u001b[38;5;124m\"\u001b[39m\u001b[38;5;124mto_dict\u001b[39m\u001b[38;5;124m\"\u001b[39m):\n\u001b[1;32m     66\u001b[0m     \u001b[38;5;28;01mreturn\u001b[39;00m obj\u001b[38;5;241m.\u001b[39mto_dict()\n",
      "File \u001b[0;32m/Library/Frameworks/Python.framework/Versions/3.10/lib/python3.10/site-packages/altair/utils/schemapi.py:61\u001b[0m, in \u001b[0;36m<dictcomp>\u001b[0;34m(.0)\u001b[0m\n\u001b[1;32m     58\u001b[0m     \u001b[38;5;28;01mreturn\u001b[39;00m [_todict(v, validate, context) \u001b[38;5;28;01mfor\u001b[39;00m v \u001b[38;5;129;01min\u001b[39;00m obj]\n\u001b[1;32m     59\u001b[0m \u001b[38;5;28;01melif\u001b[39;00m \u001b[38;5;28misinstance\u001b[39m(obj, \u001b[38;5;28mdict\u001b[39m):\n\u001b[1;32m     60\u001b[0m     \u001b[38;5;28;01mreturn\u001b[39;00m {\n\u001b[0;32m---> 61\u001b[0m         k: \u001b[43m_todict\u001b[49m\u001b[43m(\u001b[49m\u001b[43mv\u001b[49m\u001b[43m,\u001b[49m\u001b[43m \u001b[49m\u001b[43mvalidate\u001b[49m\u001b[43m,\u001b[49m\u001b[43m \u001b[49m\u001b[43mcontext\u001b[49m\u001b[43m)\u001b[49m\n\u001b[1;32m     62\u001b[0m         \u001b[38;5;28;01mfor\u001b[39;00m k, v \u001b[38;5;129;01min\u001b[39;00m obj\u001b[38;5;241m.\u001b[39mitems()\n\u001b[1;32m     63\u001b[0m         \u001b[38;5;28;01mif\u001b[39;00m v \u001b[38;5;129;01mis\u001b[39;00m \u001b[38;5;129;01mnot\u001b[39;00m Undefined\n\u001b[1;32m     64\u001b[0m     }\n\u001b[1;32m     65\u001b[0m \u001b[38;5;28;01melif\u001b[39;00m \u001b[38;5;28mhasattr\u001b[39m(obj, \u001b[38;5;124m\"\u001b[39m\u001b[38;5;124mto_dict\u001b[39m\u001b[38;5;124m\"\u001b[39m):\n\u001b[1;32m     66\u001b[0m     \u001b[38;5;28;01mreturn\u001b[39;00m obj\u001b[38;5;241m.\u001b[39mto_dict()\n",
      "File \u001b[0;32m/Library/Frameworks/Python.framework/Versions/3.10/lib/python3.10/site-packages/altair/utils/schemapi.py:58\u001b[0m, in \u001b[0;36m_todict\u001b[0;34m(obj, validate, context)\u001b[0m\n\u001b[1;32m     56\u001b[0m     \u001b[38;5;28;01mreturn\u001b[39;00m obj\u001b[38;5;241m.\u001b[39mto_dict(validate\u001b[38;5;241m=\u001b[39mvalidate, context\u001b[38;5;241m=\u001b[39mcontext)\n\u001b[1;32m     57\u001b[0m \u001b[38;5;28;01melif\u001b[39;00m \u001b[38;5;28misinstance\u001b[39m(obj, (\u001b[38;5;28mlist\u001b[39m, \u001b[38;5;28mtuple\u001b[39m, np\u001b[38;5;241m.\u001b[39mndarray)):\n\u001b[0;32m---> 58\u001b[0m     \u001b[38;5;28;01mreturn\u001b[39;00m [_todict(v, validate, context) \u001b[38;5;28;01mfor\u001b[39;00m v \u001b[38;5;129;01min\u001b[39;00m obj]\n\u001b[1;32m     59\u001b[0m \u001b[38;5;28;01melif\u001b[39;00m \u001b[38;5;28misinstance\u001b[39m(obj, \u001b[38;5;28mdict\u001b[39m):\n\u001b[1;32m     60\u001b[0m     \u001b[38;5;28;01mreturn\u001b[39;00m {\n\u001b[1;32m     61\u001b[0m         k: _todict(v, validate, context)\n\u001b[1;32m     62\u001b[0m         \u001b[38;5;28;01mfor\u001b[39;00m k, v \u001b[38;5;129;01min\u001b[39;00m obj\u001b[38;5;241m.\u001b[39mitems()\n\u001b[1;32m     63\u001b[0m         \u001b[38;5;28;01mif\u001b[39;00m v \u001b[38;5;129;01mis\u001b[39;00m \u001b[38;5;129;01mnot\u001b[39;00m Undefined\n\u001b[1;32m     64\u001b[0m     }\n",
      "File \u001b[0;32m/Library/Frameworks/Python.framework/Versions/3.10/lib/python3.10/site-packages/altair/utils/schemapi.py:58\u001b[0m, in \u001b[0;36m<listcomp>\u001b[0;34m(.0)\u001b[0m\n\u001b[1;32m     56\u001b[0m     \u001b[38;5;28;01mreturn\u001b[39;00m obj\u001b[38;5;241m.\u001b[39mto_dict(validate\u001b[38;5;241m=\u001b[39mvalidate, context\u001b[38;5;241m=\u001b[39mcontext)\n\u001b[1;32m     57\u001b[0m \u001b[38;5;28;01melif\u001b[39;00m \u001b[38;5;28misinstance\u001b[39m(obj, (\u001b[38;5;28mlist\u001b[39m, \u001b[38;5;28mtuple\u001b[39m, np\u001b[38;5;241m.\u001b[39mndarray)):\n\u001b[0;32m---> 58\u001b[0m     \u001b[38;5;28;01mreturn\u001b[39;00m [\u001b[43m_todict\u001b[49m\u001b[43m(\u001b[49m\u001b[43mv\u001b[49m\u001b[43m,\u001b[49m\u001b[43m \u001b[49m\u001b[43mvalidate\u001b[49m\u001b[43m,\u001b[49m\u001b[43m \u001b[49m\u001b[43mcontext\u001b[49m\u001b[43m)\u001b[49m \u001b[38;5;28;01mfor\u001b[39;00m v \u001b[38;5;129;01min\u001b[39;00m obj]\n\u001b[1;32m     59\u001b[0m \u001b[38;5;28;01melif\u001b[39;00m \u001b[38;5;28misinstance\u001b[39m(obj, \u001b[38;5;28mdict\u001b[39m):\n\u001b[1;32m     60\u001b[0m     \u001b[38;5;28;01mreturn\u001b[39;00m {\n\u001b[1;32m     61\u001b[0m         k: _todict(v, validate, context)\n\u001b[1;32m     62\u001b[0m         \u001b[38;5;28;01mfor\u001b[39;00m k, v \u001b[38;5;129;01min\u001b[39;00m obj\u001b[38;5;241m.\u001b[39mitems()\n\u001b[1;32m     63\u001b[0m         \u001b[38;5;28;01mif\u001b[39;00m v \u001b[38;5;129;01mis\u001b[39;00m \u001b[38;5;129;01mnot\u001b[39;00m Undefined\n\u001b[1;32m     64\u001b[0m     }\n",
      "File \u001b[0;32m/Library/Frameworks/Python.framework/Versions/3.10/lib/python3.10/site-packages/altair/utils/schemapi.py:56\u001b[0m, in \u001b[0;36m_todict\u001b[0;34m(obj, validate, context)\u001b[0m\n\u001b[1;32m     54\u001b[0m \u001b[38;5;124;03m\"\"\"Convert an object to a dict representation.\"\"\"\u001b[39;00m\n\u001b[1;32m     55\u001b[0m \u001b[38;5;28;01mif\u001b[39;00m \u001b[38;5;28misinstance\u001b[39m(obj, SchemaBase):\n\u001b[0;32m---> 56\u001b[0m     \u001b[38;5;28;01mreturn\u001b[39;00m \u001b[43mobj\u001b[49m\u001b[38;5;241;43m.\u001b[39;49m\u001b[43mto_dict\u001b[49m\u001b[43m(\u001b[49m\u001b[43mvalidate\u001b[49m\u001b[38;5;241;43m=\u001b[39;49m\u001b[43mvalidate\u001b[49m\u001b[43m,\u001b[49m\u001b[43m \u001b[49m\u001b[43mcontext\u001b[49m\u001b[38;5;241;43m=\u001b[39;49m\u001b[43mcontext\u001b[49m\u001b[43m)\u001b[49m\n\u001b[1;32m     57\u001b[0m \u001b[38;5;28;01melif\u001b[39;00m \u001b[38;5;28misinstance\u001b[39m(obj, (\u001b[38;5;28mlist\u001b[39m, \u001b[38;5;28mtuple\u001b[39m, np\u001b[38;5;241m.\u001b[39mndarray)):\n\u001b[1;32m     58\u001b[0m     \u001b[38;5;28;01mreturn\u001b[39;00m [_todict(v, validate, context) \u001b[38;5;28;01mfor\u001b[39;00m v \u001b[38;5;129;01min\u001b[39;00m obj]\n",
      "File \u001b[0;32m/Library/Frameworks/Python.framework/Versions/3.10/lib/python3.10/site-packages/altair/vegalite/v4/schema/channels.py:44\u001b[0m, in \u001b[0;36mFieldChannelMixin.to_dict\u001b[0;34m(self, validate, ignore, context)\u001b[0m\n\u001b[1;32m     40\u001b[0m             \u001b[38;5;28;01mraise\u001b[39;00m \u001b[38;5;167;01mValueError\u001b[39;00m(\u001b[38;5;124m\"\u001b[39m\u001b[38;5;132;01m{}\u001b[39;00m\u001b[38;5;124m encoding field is specified without a type; \u001b[39m\u001b[38;5;124m\"\u001b[39m\n\u001b[1;32m     41\u001b[0m                              \u001b[38;5;124m\"\u001b[39m\u001b[38;5;124mthe type cannot be inferred because it does not \u001b[39m\u001b[38;5;124m\"\u001b[39m\n\u001b[1;32m     42\u001b[0m                              \u001b[38;5;124m\"\u001b[39m\u001b[38;5;124mmatch any column in the data.\u001b[39m\u001b[38;5;124m\"\u001b[39m\u001b[38;5;241m.\u001b[39mformat(shorthand))\n\u001b[1;32m     43\u001b[0m         \u001b[38;5;28;01melse\u001b[39;00m:\n\u001b[0;32m---> 44\u001b[0m             \u001b[38;5;28;01mraise\u001b[39;00m \u001b[38;5;167;01mValueError\u001b[39;00m(\u001b[38;5;124m\"\u001b[39m\u001b[38;5;132;01m{}\u001b[39;00m\u001b[38;5;124m encoding field is specified without a type; \u001b[39m\u001b[38;5;124m\"\u001b[39m\n\u001b[1;32m     45\u001b[0m                              \u001b[38;5;124m\"\u001b[39m\u001b[38;5;124mthe type cannot be automatically inferred because \u001b[39m\u001b[38;5;124m\"\u001b[39m\n\u001b[1;32m     46\u001b[0m                              \u001b[38;5;124m\"\u001b[39m\u001b[38;5;124mthe data is not specified as a pandas.DataFrame.\u001b[39m\u001b[38;5;124m\"\u001b[39m\n\u001b[1;32m     47\u001b[0m                              \u001b[38;5;124m\"\u001b[39m\u001b[38;5;124m\"\u001b[39m\u001b[38;5;241m.\u001b[39mformat(shorthand))\n\u001b[1;32m     48\u001b[0m \u001b[38;5;28;01melse\u001b[39;00m:\n\u001b[1;32m     49\u001b[0m     \u001b[38;5;66;03m# Shorthand is not a string; we pass the definition to field,\u001b[39;00m\n\u001b[1;32m     50\u001b[0m     \u001b[38;5;66;03m# and do not do any parsing.\u001b[39;00m\n\u001b[1;32m     51\u001b[0m     parsed \u001b[38;5;241m=\u001b[39m {\u001b[38;5;124m'\u001b[39m\u001b[38;5;124mfield\u001b[39m\u001b[38;5;124m'\u001b[39m: shorthand}\n",
      "\u001b[0;31mValueError\u001b[0m: Interest Rate encoding field is specified without a type; the type cannot be automatically inferred because the data is not specified as a pandas.DataFrame."
     ]
    }
   ],
   "source": [
    "myaf = af()\n",
    "altair_object, line_chart,loan_amt,monthly_allocation, home_amount, down_payment_amount, down_payment_pct, interest_rate , df , output_string = myaf.how_much_can_i_afford(monthly_allocation=1500)\n",
    "#myaf.how_much_can_i_afford(monthly_allocation=15000,print_output=True)\n",
    "print(output_string)"
   ]
  },
  {
   "cell_type": "code",
   "execution_count": 3,
   "id": "7741d829",
   "metadata": {},
   "outputs": [
    {
     "name": "stderr",
     "output_type": "stream",
     "text": [
      "/Library/Frameworks/Python.framework/Versions/3.10/lib/python3.10/site-packages/altair/utils/core.py:317: FutureWarning: iteritems is deprecated and will be removed in a future version. Use .items instead.\n",
      "  for col_name, dtype in df.dtypes.iteritems():\n"
     ]
    },
    {
     "data": {
      "text/html": [
       "\n",
       "<div id=\"altair-viz-a8d1e9ff6d794862b9582bbd8f4036d5\"></div>\n",
       "<script type=\"text/javascript\">\n",
       "  var VEGA_DEBUG = (typeof VEGA_DEBUG == \"undefined\") ? {} : VEGA_DEBUG;\n",
       "  (function(spec, embedOpt){\n",
       "    let outputDiv = document.currentScript.previousElementSibling;\n",
       "    if (outputDiv.id !== \"altair-viz-a8d1e9ff6d794862b9582bbd8f4036d5\") {\n",
       "      outputDiv = document.getElementById(\"altair-viz-a8d1e9ff6d794862b9582bbd8f4036d5\");\n",
       "    }\n",
       "    const paths = {\n",
       "      \"vega\": \"https://cdn.jsdelivr.net/npm//vega@5?noext\",\n",
       "      \"vega-lib\": \"https://cdn.jsdelivr.net/npm//vega-lib?noext\",\n",
       "      \"vega-lite\": \"https://cdn.jsdelivr.net/npm//vega-lite@4.17.0?noext\",\n",
       "      \"vega-embed\": \"https://cdn.jsdelivr.net/npm//vega-embed@6?noext\",\n",
       "    };\n",
       "\n",
       "    function maybeLoadScript(lib, version) {\n",
       "      var key = `${lib.replace(\"-\", \"\")}_version`;\n",
       "      return (VEGA_DEBUG[key] == version) ?\n",
       "        Promise.resolve(paths[lib]) :\n",
       "        new Promise(function(resolve, reject) {\n",
       "          var s = document.createElement('script');\n",
       "          document.getElementsByTagName(\"head\")[0].appendChild(s);\n",
       "          s.async = true;\n",
       "          s.onload = () => {\n",
       "            VEGA_DEBUG[key] = version;\n",
       "            return resolve(paths[lib]);\n",
       "          };\n",
       "          s.onerror = () => reject(`Error loading script: ${paths[lib]}`);\n",
       "          s.src = paths[lib];\n",
       "        });\n",
       "    }\n",
       "\n",
       "    function showError(err) {\n",
       "      outputDiv.innerHTML = `<div class=\"error\" style=\"color:red;\">${err}</div>`;\n",
       "      throw err;\n",
       "    }\n",
       "\n",
       "    function displayChart(vegaEmbed) {\n",
       "      vegaEmbed(outputDiv, spec, embedOpt)\n",
       "        .catch(err => showError(`Javascript Error: ${err.message}<br>This usually means there's a typo in your chart specification. See the javascript console for the full traceback.`));\n",
       "    }\n",
       "\n",
       "    if(typeof define === \"function\" && define.amd) {\n",
       "      requirejs.config({paths});\n",
       "      require([\"vega-embed\"], displayChart, err => showError(`Error loading script: ${err.message}`));\n",
       "    } else {\n",
       "      maybeLoadScript(\"vega\", \"5\")\n",
       "        .then(() => maybeLoadScript(\"vega-lite\", \"4.17.0\"))\n",
       "        .then(() => maybeLoadScript(\"vega-embed\", \"6\"))\n",
       "        .catch(showError)\n",
       "        .then(() => displayChart(vegaEmbed));\n",
       "    }\n",
       "  })({\"config\": {\"view\": {\"continuousWidth\": 400, \"continuousHeight\": 300}}, \"layer\": [{\"data\": {\"name\": \"data-8e87378d7d766bd01c9b7401423b8568\"}, \"mark\": \"line\", \"encoding\": {\"strokeWidth\": {\"value\": 3}, \"x\": {\"axis\": {\"title\": \"Interest Rate\"}, \"field\": \"Interest Rate\", \"type\": \"quantitative\"}, \"y\": {\"axis\": {\"title\": \"What I Can Afford (USD):\"}, \"field\": \"What I Can Afford\", \"type\": \"quantitative\"}}}, {\"data\": {\"name\": \"data-8e87378d7d766bd01c9b7401423b8568\"}, \"mark\": {\"type\": \"circle\", \"color\": \"red\", \"opacity\": 0.0, \"size\": 1000}, \"encoding\": {\"tooltip\": [{\"field\": \"Interest Rate\", \"type\": \"quantitative\"}, {\"field\": \"What I Can Afford\", \"format\": \"$,.0f\", \"type\": \"quantitative\"}], \"x\": {\"axis\": {\"title\": \"\"}, \"field\": \"Interest Rate\", \"type\": \"quantitative\"}, \"y\": {\"axis\": {\"title\": \"\"}, \"field\": \"What I Can Afford\", \"type\": \"quantitative\"}}}, {\"data\": {\"name\": \"data-80f30e5f8bc92936c35a10b2cea4f682\"}, \"mark\": {\"type\": \"point\", \"color\": \"red\", \"opacity\": 1, \"size\": 2000, \"tooltip\": \"Tooltip text here\"}}], \"height\": 200, \"title\": \"What $1,500  monthly buys at various intrest rates\", \"width\": 380, \"$schema\": \"https://vega.github.io/schema/vega-lite/v4.17.0.json\", \"datasets\": {\"data-8e87378d7d766bd01c9b7401423b8568\": [{\"Interest Rate\": 1.5, \"What I Can Afford\": 544000}, {\"Interest Rate\": 1.7500000000000002, \"What I Can Afford\": 525000}, {\"Interest Rate\": 2.0, \"What I Can Afford\": 508000}, {\"Interest Rate\": 2.25, \"What I Can Afford\": 491000}, {\"Interest Rate\": 2.5, \"What I Can Afford\": 475000}, {\"Interest Rate\": 2.75, \"What I Can Afford\": 460000}, {\"Interest Rate\": 3.0, \"What I Can Afford\": 445000}, {\"Interest Rate\": 3.25, \"What I Can Afford\": 431000}, {\"Interest Rate\": 3.5000000000000004, \"What I Can Afford\": 418000}, {\"Interest Rate\": 3.75, \"What I Can Afford\": 405000}, {\"Interest Rate\": 4.0, \"What I Can Afford\": 393000}, {\"Interest Rate\": 4.25, \"What I Can Afford\": 382000}, {\"Interest Rate\": 4.5, \"What I Can Afford\": 371000}, {\"Interest Rate\": 4.75, \"What I Can Afford\": 360000}, {\"Interest Rate\": 5.0, \"What I Can Afford\": 350000}, {\"Interest Rate\": 5.25, \"What I Can Afford\": 340000}, {\"Interest Rate\": 5.5, \"What I Can Afford\": 331000}, {\"Interest Rate\": 5.75, \"What I Can Afford\": 322000}, {\"Interest Rate\": 6.0, \"What I Can Afford\": 313000}, {\"Interest Rate\": 6.25, \"What I Can Afford\": 305000}, {\"Interest Rate\": 6.5, \"What I Can Afford\": 297000}, {\"Interest Rate\": 6.75, \"What I Can Afford\": 290000}, {\"Interest Rate\": 7.000000000000001, \"What I Can Afford\": 282000}, {\"Interest Rate\": 7.249999999999999, \"What I Can Afford\": 275000}, {\"Interest Rate\": 7.5, \"What I Can Afford\": 269000}, {\"Interest Rate\": 7.75, \"What I Can Afford\": 262000}, {\"Interest Rate\": 8.0, \"What I Can Afford\": 256000}, {\"Interest Rate\": 8.25, \"What I Can Afford\": 250000}, {\"Interest Rate\": 8.5, \"What I Can Afford\": 244000}, {\"Interest Rate\": 8.75, \"What I Can Afford\": 239000}, {\"Interest Rate\": 9.0, \"What I Can Afford\": 234000}, {\"Interest Rate\": 9.25, \"What I Can Afford\": 228000}, {\"Interest Rate\": 9.5, \"What I Can Afford\": 223000}, {\"Interest Rate\": 9.75, \"What I Can Afford\": 219000}, {\"Interest Rate\": 10.0, \"What I Can Afford\": 214000}, {\"Interest Rate\": 10.25, \"What I Can Afford\": 210000}, {\"Interest Rate\": 10.5, \"What I Can Afford\": 205000}, {\"Interest Rate\": 10.75, \"What I Can Afford\": 201000}, {\"Interest Rate\": 11.0, \"What I Can Afford\": 197000}, {\"Interest Rate\": 11.25, \"What I Can Afford\": 194000}, {\"Interest Rate\": 11.5, \"What I Can Afford\": 190000}], \"data-80f30e5f8bc92936c35a10b2cea4f682\": [{\"Interest Rate\": 6.5, \"What I Can Afford\": 297000}]}}, {\"mode\": \"vega-lite\"});\n",
       "</script>"
      ],
      "text/plain": [
       "alt.LayerChart(...)"
      ]
     },
     "execution_count": 3,
     "metadata": {},
     "output_type": "execute_result"
    }
   ],
   "source": [
    "line_chart"
   ]
  },
  {
   "cell_type": "code",
   "execution_count": 1,
   "id": "36424e1d",
   "metadata": {},
   "outputs": [
    {
     "ename": "NameError",
     "evalue": "name 'pd' is not defined",
     "output_type": "error",
     "traceback": [
      "\u001b[0;31m---------------------------------------------------------------------------\u001b[0m",
      "\u001b[0;31mNameError\u001b[0m                                 Traceback (most recent call last)",
      "Cell \u001b[0;32mIn [1], line 1\u001b[0m\n\u001b[0;32m----> 1\u001b[0m findf \u001b[38;5;241m=\u001b[39m pd\u001b[38;5;241m.\u001b[39mDataFrame(data)\n\u001b[1;32m      2\u001b[0m findf\u001b[38;5;241m.\u001b[39mhead()\n",
      "\u001b[0;31mNameError\u001b[0m: name 'pd' is not defined"
     ]
    }
   ],
   "source": [
    "findf = pd.DataFrame(data)\n",
    "findf.head()"
   ]
  },
  {
   "cell_type": "code",
   "execution_count": 2,
   "id": "fc3db487",
   "metadata": {},
   "outputs": [
    {
     "ename": "NameError",
     "evalue": "name 'alt' is not defined",
     "output_type": "error",
     "traceback": [
      "\u001b[0;31m---------------------------------------------------------------------------\u001b[0m",
      "\u001b[0;31mNameError\u001b[0m                                 Traceback (most recent call last)",
      "Cell \u001b[0;32mIn [2], line 1\u001b[0m\n\u001b[0;32m----> 1\u001b[0m hist \u001b[38;5;241m=\u001b[39m alt\u001b[38;5;241m.\u001b[39mChart(findf)\u001b[38;5;241m.\u001b[39mmark_bar()\u001b[38;5;241m.\u001b[39mencode(x\u001b[38;5;241m=\u001b[39malt\u001b[38;5;241m.\u001b[39mX(\u001b[38;5;124m'\u001b[39m\u001b[38;5;124mComponent:N\u001b[39m\u001b[38;5;124m'\u001b[39m,axis\u001b[38;5;241m=\u001b[39malt\u001b[38;5;241m.\u001b[39mAxis(title\u001b[38;5;241m=\u001b[39m\u001b[38;5;124m'\u001b[39m\u001b[38;5;124mHome Cost Component\u001b[39m\u001b[38;5;124m'\u001b[39m,labelAngle\u001b[38;5;241m=\u001b[39m\u001b[38;5;241m-\u001b[39m\u001b[38;5;241m0\u001b[39m), sort\u001b[38;5;241m=\u001b[39m\u001b[38;5;124m'\u001b[39m\u001b[38;5;124my\u001b[39m\u001b[38;5;124m'\u001b[39m),\n\u001b[1;32m      2\u001b[0m                                           y\u001b[38;5;241m=\u001b[39malt\u001b[38;5;241m.\u001b[39mY(\u001b[38;5;124m'\u001b[39m\u001b[38;5;124mValue:Q\u001b[39m\u001b[38;5;124m'\u001b[39m,axis\u001b[38;5;241m=\u001b[39malt\u001b[38;5;241m.\u001b[39mAxis(title\u001b[38;5;241m=\u001b[39m\u001b[38;5;124m'\u001b[39m\u001b[38;5;124mDollar Amount\u001b[39m\u001b[38;5;124m'\u001b[39m)),\n\u001b[1;32m      3\u001b[0m                                           tooltip\u001b[38;5;241m=\u001b[39m[alt\u001b[38;5;241m.\u001b[39mTooltip(\u001b[38;5;124m'\u001b[39m\u001b[38;5;124mComponent:N\u001b[39m\u001b[38;5;124m'\u001b[39m),alt\u001b[38;5;241m.\u001b[39mTooltip(\u001b[38;5;124m'\u001b[39m\u001b[38;5;124mValue:N\u001b[39m\u001b[38;5;124m'\u001b[39m,\u001b[38;5;28mformat\u001b[39m\u001b[38;5;241m=\u001b[39m\u001b[38;5;124m\"\u001b[39m\u001b[38;5;124m$,.0f\u001b[39m\u001b[38;5;124m\"\u001b[39m),],)\n\u001b[1;32m      5\u001b[0m return_chart \u001b[38;5;241m=\u001b[39m alt\u001b[38;5;241m.\u001b[39mlayer(hist)\u001b[38;5;241m.\u001b[39mproperties(\n\u001b[1;32m      6\u001b[0m     width\u001b[38;5;241m=\u001b[39m\u001b[38;5;241m500\u001b[39m,\n\u001b[1;32m      7\u001b[0m     height\u001b[38;5;241m=\u001b[39m\u001b[38;5;241m350\u001b[39m,\n\u001b[1;32m      8\u001b[0m     title\u001b[38;5;241m=\u001b[39m\u001b[38;5;124m\"\u001b[39m\u001b[38;5;124mTest\u001b[39m\u001b[38;5;124m\"\u001b[39m\n\u001b[1;32m      9\u001b[0m )\n\u001b[1;32m     10\u001b[0m return_chart\n",
      "\u001b[0;31mNameError\u001b[0m: name 'alt' is not defined"
     ]
    }
   ],
   "source": [
    "\n",
    "hist = alt.Chart(findf).mark_bar().encode(x=alt.X('Component:N',axis=alt.Axis(title='Home Cost Component',labelAngle=-0), sort='y'),\n",
    "                                          y=alt.Y('Value:Q',axis=alt.Axis(title='Dollar Amount')),\n",
    "                                          tooltip=[alt.Tooltip('Component:N'),alt.Tooltip('Value:N',format=\"$,.0f\"),],)\n",
    "\n",
    "return_chart = alt.layer(hist).properties(\n",
    "    width=500,\n",
    "    height=350,\n",
    "    title=\"Test\"\n",
    ")\n",
    "return_chart"
   ]
  },
  {
   "cell_type": "code",
   "execution_count": 31,
   "id": "171e9676",
   "metadata": {},
   "outputs": [
    {
     "ename": "ValueError",
     "evalue": "Dollar Amount ($) encoding field is specified without a type; the type cannot be inferred because it does not match any column in the data.",
     "output_type": "error",
     "traceback": [
      "\u001b[0;31m---------------------------------------------------------------------------\u001b[0m",
      "\u001b[0;31mValueError\u001b[0m                                Traceback (most recent call last)",
      "File \u001b[0;32m/Library/Frameworks/Python.framework/Versions/3.10/lib/python3.10/site-packages/altair/vegalite/v4/api.py:2020\u001b[0m, in \u001b[0;36mChart.to_dict\u001b[0;34m(self, *args, **kwargs)\u001b[0m\n\u001b[1;32m   2018\u001b[0m     copy\u001b[38;5;241m.\u001b[39mdata \u001b[38;5;241m=\u001b[39m core\u001b[38;5;241m.\u001b[39mInlineData(values\u001b[38;5;241m=\u001b[39m[{}])\n\u001b[1;32m   2019\u001b[0m     \u001b[38;5;28;01mreturn\u001b[39;00m \u001b[38;5;28msuper\u001b[39m(Chart, copy)\u001b[38;5;241m.\u001b[39mto_dict(\u001b[38;5;241m*\u001b[39margs, \u001b[38;5;241m*\u001b[39m\u001b[38;5;241m*\u001b[39mkwargs)\n\u001b[0;32m-> 2020\u001b[0m \u001b[38;5;28;01mreturn\u001b[39;00m \u001b[38;5;28;43msuper\u001b[39;49m\u001b[43m(\u001b[49m\u001b[43m)\u001b[49m\u001b[38;5;241;43m.\u001b[39;49m\u001b[43mto_dict\u001b[49m\u001b[43m(\u001b[49m\u001b[38;5;241;43m*\u001b[39;49m\u001b[43margs\u001b[49m\u001b[43m,\u001b[49m\u001b[43m \u001b[49m\u001b[38;5;241;43m*\u001b[39;49m\u001b[38;5;241;43m*\u001b[39;49m\u001b[43mkwargs\u001b[49m\u001b[43m)\u001b[49m\n",
      "File \u001b[0;32m/Library/Frameworks/Python.framework/Versions/3.10/lib/python3.10/site-packages/altair/vegalite/v4/api.py:384\u001b[0m, in \u001b[0;36mTopLevelMixin.to_dict\u001b[0;34m(self, *args, **kwargs)\u001b[0m\n\u001b[1;32m    381\u001b[0m kwargs[\u001b[38;5;124m\"\u001b[39m\u001b[38;5;124mcontext\u001b[39m\u001b[38;5;124m\"\u001b[39m] \u001b[38;5;241m=\u001b[39m context\n\u001b[1;32m    383\u001b[0m \u001b[38;5;28;01mtry\u001b[39;00m:\n\u001b[0;32m--> 384\u001b[0m     dct \u001b[38;5;241m=\u001b[39m \u001b[38;5;28;43msuper\u001b[39;49m\u001b[43m(\u001b[49m\u001b[43mTopLevelMixin\u001b[49m\u001b[43m,\u001b[49m\u001b[43m \u001b[49m\u001b[43mcopy\u001b[49m\u001b[43m)\u001b[49m\u001b[38;5;241;43m.\u001b[39;49m\u001b[43mto_dict\u001b[49m\u001b[43m(\u001b[49m\u001b[38;5;241;43m*\u001b[39;49m\u001b[43margs\u001b[49m\u001b[43m,\u001b[49m\u001b[43m \u001b[49m\u001b[38;5;241;43m*\u001b[39;49m\u001b[38;5;241;43m*\u001b[39;49m\u001b[43mkwargs\u001b[49m\u001b[43m)\u001b[49m\n\u001b[1;32m    385\u001b[0m \u001b[38;5;28;01mexcept\u001b[39;00m jsonschema\u001b[38;5;241m.\u001b[39mValidationError:\n\u001b[1;32m    386\u001b[0m     dct \u001b[38;5;241m=\u001b[39m \u001b[38;5;28;01mNone\u001b[39;00m\n",
      "File \u001b[0;32m/Library/Frameworks/Python.framework/Versions/3.10/lib/python3.10/site-packages/altair/utils/schemapi.py:326\u001b[0m, in \u001b[0;36mSchemaBase.to_dict\u001b[0;34m(self, validate, ignore, context)\u001b[0m\n\u001b[1;32m    324\u001b[0m     result \u001b[38;5;241m=\u001b[39m _todict(\u001b[38;5;28mself\u001b[39m\u001b[38;5;241m.\u001b[39m_args[\u001b[38;5;241m0\u001b[39m], validate\u001b[38;5;241m=\u001b[39msub_validate, context\u001b[38;5;241m=\u001b[39mcontext)\n\u001b[1;32m    325\u001b[0m \u001b[38;5;28;01melif\u001b[39;00m \u001b[38;5;129;01mnot\u001b[39;00m \u001b[38;5;28mself\u001b[39m\u001b[38;5;241m.\u001b[39m_args:\n\u001b[0;32m--> 326\u001b[0m     result \u001b[38;5;241m=\u001b[39m \u001b[43m_todict\u001b[49m\u001b[43m(\u001b[49m\n\u001b[1;32m    327\u001b[0m \u001b[43m        \u001b[49m\u001b[43m{\u001b[49m\u001b[43mk\u001b[49m\u001b[43m:\u001b[49m\u001b[43m \u001b[49m\u001b[43mv\u001b[49m\u001b[43m \u001b[49m\u001b[38;5;28;43;01mfor\u001b[39;49;00m\u001b[43m \u001b[49m\u001b[43mk\u001b[49m\u001b[43m,\u001b[49m\u001b[43m \u001b[49m\u001b[43mv\u001b[49m\u001b[43m \u001b[49m\u001b[38;5;129;43;01min\u001b[39;49;00m\u001b[43m \u001b[49m\u001b[38;5;28;43mself\u001b[39;49m\u001b[38;5;241;43m.\u001b[39;49m\u001b[43m_kwds\u001b[49m\u001b[38;5;241;43m.\u001b[39;49m\u001b[43mitems\u001b[49m\u001b[43m(\u001b[49m\u001b[43m)\u001b[49m\u001b[43m \u001b[49m\u001b[38;5;28;43;01mif\u001b[39;49;00m\u001b[43m \u001b[49m\u001b[43mk\u001b[49m\u001b[43m \u001b[49m\u001b[38;5;129;43;01mnot\u001b[39;49;00m\u001b[43m \u001b[49m\u001b[38;5;129;43;01min\u001b[39;49;00m\u001b[43m \u001b[49m\u001b[43mignore\u001b[49m\u001b[43m}\u001b[49m\u001b[43m,\u001b[49m\n\u001b[1;32m    328\u001b[0m \u001b[43m        \u001b[49m\u001b[43mvalidate\u001b[49m\u001b[38;5;241;43m=\u001b[39;49m\u001b[43msub_validate\u001b[49m\u001b[43m,\u001b[49m\n\u001b[1;32m    329\u001b[0m \u001b[43m        \u001b[49m\u001b[43mcontext\u001b[49m\u001b[38;5;241;43m=\u001b[39;49m\u001b[43mcontext\u001b[49m\u001b[43m,\u001b[49m\n\u001b[1;32m    330\u001b[0m \u001b[43m    \u001b[49m\u001b[43m)\u001b[49m\n\u001b[1;32m    331\u001b[0m \u001b[38;5;28;01melse\u001b[39;00m:\n\u001b[1;32m    332\u001b[0m     \u001b[38;5;28;01mraise\u001b[39;00m \u001b[38;5;167;01mValueError\u001b[39;00m(\n\u001b[1;32m    333\u001b[0m         \u001b[38;5;124m\"\u001b[39m\u001b[38;5;132;01m{}\u001b[39;00m\u001b[38;5;124m instance has both a value and properties : \u001b[39m\u001b[38;5;124m\"\u001b[39m\n\u001b[1;32m    334\u001b[0m         \u001b[38;5;124m\"\u001b[39m\u001b[38;5;124mcannot serialize to dict\u001b[39m\u001b[38;5;124m\"\u001b[39m\u001b[38;5;241m.\u001b[39mformat(\u001b[38;5;28mself\u001b[39m\u001b[38;5;241m.\u001b[39m\u001b[38;5;18m__class__\u001b[39m)\n\u001b[1;32m    335\u001b[0m     )\n",
      "File \u001b[0;32m/Library/Frameworks/Python.framework/Versions/3.10/lib/python3.10/site-packages/altair/utils/schemapi.py:60\u001b[0m, in \u001b[0;36m_todict\u001b[0;34m(obj, validate, context)\u001b[0m\n\u001b[1;32m     58\u001b[0m     \u001b[38;5;28;01mreturn\u001b[39;00m [_todict(v, validate, context) \u001b[38;5;28;01mfor\u001b[39;00m v \u001b[38;5;129;01min\u001b[39;00m obj]\n\u001b[1;32m     59\u001b[0m \u001b[38;5;28;01melif\u001b[39;00m \u001b[38;5;28misinstance\u001b[39m(obj, \u001b[38;5;28mdict\u001b[39m):\n\u001b[0;32m---> 60\u001b[0m     \u001b[38;5;28;01mreturn\u001b[39;00m {\n\u001b[1;32m     61\u001b[0m         k: _todict(v, validate, context)\n\u001b[1;32m     62\u001b[0m         \u001b[38;5;28;01mfor\u001b[39;00m k, v \u001b[38;5;129;01min\u001b[39;00m obj\u001b[38;5;241m.\u001b[39mitems()\n\u001b[1;32m     63\u001b[0m         \u001b[38;5;28;01mif\u001b[39;00m v \u001b[38;5;129;01mis\u001b[39;00m \u001b[38;5;129;01mnot\u001b[39;00m Undefined\n\u001b[1;32m     64\u001b[0m     }\n\u001b[1;32m     65\u001b[0m \u001b[38;5;28;01melif\u001b[39;00m \u001b[38;5;28mhasattr\u001b[39m(obj, \u001b[38;5;124m\"\u001b[39m\u001b[38;5;124mto_dict\u001b[39m\u001b[38;5;124m\"\u001b[39m):\n\u001b[1;32m     66\u001b[0m     \u001b[38;5;28;01mreturn\u001b[39;00m obj\u001b[38;5;241m.\u001b[39mto_dict()\n",
      "File \u001b[0;32m/Library/Frameworks/Python.framework/Versions/3.10/lib/python3.10/site-packages/altair/utils/schemapi.py:61\u001b[0m, in \u001b[0;36m<dictcomp>\u001b[0;34m(.0)\u001b[0m\n\u001b[1;32m     58\u001b[0m     \u001b[38;5;28;01mreturn\u001b[39;00m [_todict(v, validate, context) \u001b[38;5;28;01mfor\u001b[39;00m v \u001b[38;5;129;01min\u001b[39;00m obj]\n\u001b[1;32m     59\u001b[0m \u001b[38;5;28;01melif\u001b[39;00m \u001b[38;5;28misinstance\u001b[39m(obj, \u001b[38;5;28mdict\u001b[39m):\n\u001b[1;32m     60\u001b[0m     \u001b[38;5;28;01mreturn\u001b[39;00m {\n\u001b[0;32m---> 61\u001b[0m         k: \u001b[43m_todict\u001b[49m\u001b[43m(\u001b[49m\u001b[43mv\u001b[49m\u001b[43m,\u001b[49m\u001b[43m \u001b[49m\u001b[43mvalidate\u001b[49m\u001b[43m,\u001b[49m\u001b[43m \u001b[49m\u001b[43mcontext\u001b[49m\u001b[43m)\u001b[49m\n\u001b[1;32m     62\u001b[0m         \u001b[38;5;28;01mfor\u001b[39;00m k, v \u001b[38;5;129;01min\u001b[39;00m obj\u001b[38;5;241m.\u001b[39mitems()\n\u001b[1;32m     63\u001b[0m         \u001b[38;5;28;01mif\u001b[39;00m v \u001b[38;5;129;01mis\u001b[39;00m \u001b[38;5;129;01mnot\u001b[39;00m Undefined\n\u001b[1;32m     64\u001b[0m     }\n\u001b[1;32m     65\u001b[0m \u001b[38;5;28;01melif\u001b[39;00m \u001b[38;5;28mhasattr\u001b[39m(obj, \u001b[38;5;124m\"\u001b[39m\u001b[38;5;124mto_dict\u001b[39m\u001b[38;5;124m\"\u001b[39m):\n\u001b[1;32m     66\u001b[0m     \u001b[38;5;28;01mreturn\u001b[39;00m obj\u001b[38;5;241m.\u001b[39mto_dict()\n",
      "File \u001b[0;32m/Library/Frameworks/Python.framework/Versions/3.10/lib/python3.10/site-packages/altair/utils/schemapi.py:56\u001b[0m, in \u001b[0;36m_todict\u001b[0;34m(obj, validate, context)\u001b[0m\n\u001b[1;32m     54\u001b[0m \u001b[38;5;124;03m\"\"\"Convert an object to a dict representation.\"\"\"\u001b[39;00m\n\u001b[1;32m     55\u001b[0m \u001b[38;5;28;01mif\u001b[39;00m \u001b[38;5;28misinstance\u001b[39m(obj, SchemaBase):\n\u001b[0;32m---> 56\u001b[0m     \u001b[38;5;28;01mreturn\u001b[39;00m \u001b[43mobj\u001b[49m\u001b[38;5;241;43m.\u001b[39;49m\u001b[43mto_dict\u001b[49m\u001b[43m(\u001b[49m\u001b[43mvalidate\u001b[49m\u001b[38;5;241;43m=\u001b[39;49m\u001b[43mvalidate\u001b[49m\u001b[43m,\u001b[49m\u001b[43m \u001b[49m\u001b[43mcontext\u001b[49m\u001b[38;5;241;43m=\u001b[39;49m\u001b[43mcontext\u001b[49m\u001b[43m)\u001b[49m\n\u001b[1;32m     57\u001b[0m \u001b[38;5;28;01melif\u001b[39;00m \u001b[38;5;28misinstance\u001b[39m(obj, (\u001b[38;5;28mlist\u001b[39m, \u001b[38;5;28mtuple\u001b[39m, np\u001b[38;5;241m.\u001b[39mndarray)):\n\u001b[1;32m     58\u001b[0m     \u001b[38;5;28;01mreturn\u001b[39;00m [_todict(v, validate, context) \u001b[38;5;28;01mfor\u001b[39;00m v \u001b[38;5;129;01min\u001b[39;00m obj]\n",
      "File \u001b[0;32m/Library/Frameworks/Python.framework/Versions/3.10/lib/python3.10/site-packages/altair/utils/schemapi.py:326\u001b[0m, in \u001b[0;36mSchemaBase.to_dict\u001b[0;34m(self, validate, ignore, context)\u001b[0m\n\u001b[1;32m    324\u001b[0m     result \u001b[38;5;241m=\u001b[39m _todict(\u001b[38;5;28mself\u001b[39m\u001b[38;5;241m.\u001b[39m_args[\u001b[38;5;241m0\u001b[39m], validate\u001b[38;5;241m=\u001b[39msub_validate, context\u001b[38;5;241m=\u001b[39mcontext)\n\u001b[1;32m    325\u001b[0m \u001b[38;5;28;01melif\u001b[39;00m \u001b[38;5;129;01mnot\u001b[39;00m \u001b[38;5;28mself\u001b[39m\u001b[38;5;241m.\u001b[39m_args:\n\u001b[0;32m--> 326\u001b[0m     result \u001b[38;5;241m=\u001b[39m \u001b[43m_todict\u001b[49m\u001b[43m(\u001b[49m\n\u001b[1;32m    327\u001b[0m \u001b[43m        \u001b[49m\u001b[43m{\u001b[49m\u001b[43mk\u001b[49m\u001b[43m:\u001b[49m\u001b[43m \u001b[49m\u001b[43mv\u001b[49m\u001b[43m \u001b[49m\u001b[38;5;28;43;01mfor\u001b[39;49;00m\u001b[43m \u001b[49m\u001b[43mk\u001b[49m\u001b[43m,\u001b[49m\u001b[43m \u001b[49m\u001b[43mv\u001b[49m\u001b[43m \u001b[49m\u001b[38;5;129;43;01min\u001b[39;49;00m\u001b[43m \u001b[49m\u001b[38;5;28;43mself\u001b[39;49m\u001b[38;5;241;43m.\u001b[39;49m\u001b[43m_kwds\u001b[49m\u001b[38;5;241;43m.\u001b[39;49m\u001b[43mitems\u001b[49m\u001b[43m(\u001b[49m\u001b[43m)\u001b[49m\u001b[43m \u001b[49m\u001b[38;5;28;43;01mif\u001b[39;49;00m\u001b[43m \u001b[49m\u001b[43mk\u001b[49m\u001b[43m \u001b[49m\u001b[38;5;129;43;01mnot\u001b[39;49;00m\u001b[43m \u001b[49m\u001b[38;5;129;43;01min\u001b[39;49;00m\u001b[43m \u001b[49m\u001b[43mignore\u001b[49m\u001b[43m}\u001b[49m\u001b[43m,\u001b[49m\n\u001b[1;32m    328\u001b[0m \u001b[43m        \u001b[49m\u001b[43mvalidate\u001b[49m\u001b[38;5;241;43m=\u001b[39;49m\u001b[43msub_validate\u001b[49m\u001b[43m,\u001b[49m\n\u001b[1;32m    329\u001b[0m \u001b[43m        \u001b[49m\u001b[43mcontext\u001b[49m\u001b[38;5;241;43m=\u001b[39;49m\u001b[43mcontext\u001b[49m\u001b[43m,\u001b[49m\n\u001b[1;32m    330\u001b[0m \u001b[43m    \u001b[49m\u001b[43m)\u001b[49m\n\u001b[1;32m    331\u001b[0m \u001b[38;5;28;01melse\u001b[39;00m:\n\u001b[1;32m    332\u001b[0m     \u001b[38;5;28;01mraise\u001b[39;00m \u001b[38;5;167;01mValueError\u001b[39;00m(\n\u001b[1;32m    333\u001b[0m         \u001b[38;5;124m\"\u001b[39m\u001b[38;5;132;01m{}\u001b[39;00m\u001b[38;5;124m instance has both a value and properties : \u001b[39m\u001b[38;5;124m\"\u001b[39m\n\u001b[1;32m    334\u001b[0m         \u001b[38;5;124m\"\u001b[39m\u001b[38;5;124mcannot serialize to dict\u001b[39m\u001b[38;5;124m\"\u001b[39m\u001b[38;5;241m.\u001b[39mformat(\u001b[38;5;28mself\u001b[39m\u001b[38;5;241m.\u001b[39m\u001b[38;5;18m__class__\u001b[39m)\n\u001b[1;32m    335\u001b[0m     )\n",
      "File \u001b[0;32m/Library/Frameworks/Python.framework/Versions/3.10/lib/python3.10/site-packages/altair/utils/schemapi.py:60\u001b[0m, in \u001b[0;36m_todict\u001b[0;34m(obj, validate, context)\u001b[0m\n\u001b[1;32m     58\u001b[0m     \u001b[38;5;28;01mreturn\u001b[39;00m [_todict(v, validate, context) \u001b[38;5;28;01mfor\u001b[39;00m v \u001b[38;5;129;01min\u001b[39;00m obj]\n\u001b[1;32m     59\u001b[0m \u001b[38;5;28;01melif\u001b[39;00m \u001b[38;5;28misinstance\u001b[39m(obj, \u001b[38;5;28mdict\u001b[39m):\n\u001b[0;32m---> 60\u001b[0m     \u001b[38;5;28;01mreturn\u001b[39;00m {\n\u001b[1;32m     61\u001b[0m         k: _todict(v, validate, context)\n\u001b[1;32m     62\u001b[0m         \u001b[38;5;28;01mfor\u001b[39;00m k, v \u001b[38;5;129;01min\u001b[39;00m obj\u001b[38;5;241m.\u001b[39mitems()\n\u001b[1;32m     63\u001b[0m         \u001b[38;5;28;01mif\u001b[39;00m v \u001b[38;5;129;01mis\u001b[39;00m \u001b[38;5;129;01mnot\u001b[39;00m Undefined\n\u001b[1;32m     64\u001b[0m     }\n\u001b[1;32m     65\u001b[0m \u001b[38;5;28;01melif\u001b[39;00m \u001b[38;5;28mhasattr\u001b[39m(obj, \u001b[38;5;124m\"\u001b[39m\u001b[38;5;124mto_dict\u001b[39m\u001b[38;5;124m\"\u001b[39m):\n\u001b[1;32m     66\u001b[0m     \u001b[38;5;28;01mreturn\u001b[39;00m obj\u001b[38;5;241m.\u001b[39mto_dict()\n",
      "File \u001b[0;32m/Library/Frameworks/Python.framework/Versions/3.10/lib/python3.10/site-packages/altair/utils/schemapi.py:61\u001b[0m, in \u001b[0;36m<dictcomp>\u001b[0;34m(.0)\u001b[0m\n\u001b[1;32m     58\u001b[0m     \u001b[38;5;28;01mreturn\u001b[39;00m [_todict(v, validate, context) \u001b[38;5;28;01mfor\u001b[39;00m v \u001b[38;5;129;01min\u001b[39;00m obj]\n\u001b[1;32m     59\u001b[0m \u001b[38;5;28;01melif\u001b[39;00m \u001b[38;5;28misinstance\u001b[39m(obj, \u001b[38;5;28mdict\u001b[39m):\n\u001b[1;32m     60\u001b[0m     \u001b[38;5;28;01mreturn\u001b[39;00m {\n\u001b[0;32m---> 61\u001b[0m         k: \u001b[43m_todict\u001b[49m\u001b[43m(\u001b[49m\u001b[43mv\u001b[49m\u001b[43m,\u001b[49m\u001b[43m \u001b[49m\u001b[43mvalidate\u001b[49m\u001b[43m,\u001b[49m\u001b[43m \u001b[49m\u001b[43mcontext\u001b[49m\u001b[43m)\u001b[49m\n\u001b[1;32m     62\u001b[0m         \u001b[38;5;28;01mfor\u001b[39;00m k, v \u001b[38;5;129;01min\u001b[39;00m obj\u001b[38;5;241m.\u001b[39mitems()\n\u001b[1;32m     63\u001b[0m         \u001b[38;5;28;01mif\u001b[39;00m v \u001b[38;5;129;01mis\u001b[39;00m \u001b[38;5;129;01mnot\u001b[39;00m Undefined\n\u001b[1;32m     64\u001b[0m     }\n\u001b[1;32m     65\u001b[0m \u001b[38;5;28;01melif\u001b[39;00m \u001b[38;5;28mhasattr\u001b[39m(obj, \u001b[38;5;124m\"\u001b[39m\u001b[38;5;124mto_dict\u001b[39m\u001b[38;5;124m\"\u001b[39m):\n\u001b[1;32m     66\u001b[0m     \u001b[38;5;28;01mreturn\u001b[39;00m obj\u001b[38;5;241m.\u001b[39mto_dict()\n",
      "File \u001b[0;32m/Library/Frameworks/Python.framework/Versions/3.10/lib/python3.10/site-packages/altair/utils/schemapi.py:56\u001b[0m, in \u001b[0;36m_todict\u001b[0;34m(obj, validate, context)\u001b[0m\n\u001b[1;32m     54\u001b[0m \u001b[38;5;124;03m\"\"\"Convert an object to a dict representation.\"\"\"\u001b[39;00m\n\u001b[1;32m     55\u001b[0m \u001b[38;5;28;01mif\u001b[39;00m \u001b[38;5;28misinstance\u001b[39m(obj, SchemaBase):\n\u001b[0;32m---> 56\u001b[0m     \u001b[38;5;28;01mreturn\u001b[39;00m \u001b[43mobj\u001b[49m\u001b[38;5;241;43m.\u001b[39;49m\u001b[43mto_dict\u001b[49m\u001b[43m(\u001b[49m\u001b[43mvalidate\u001b[49m\u001b[38;5;241;43m=\u001b[39;49m\u001b[43mvalidate\u001b[49m\u001b[43m,\u001b[49m\u001b[43m \u001b[49m\u001b[43mcontext\u001b[49m\u001b[38;5;241;43m=\u001b[39;49m\u001b[43mcontext\u001b[49m\u001b[43m)\u001b[49m\n\u001b[1;32m     57\u001b[0m \u001b[38;5;28;01melif\u001b[39;00m \u001b[38;5;28misinstance\u001b[39m(obj, (\u001b[38;5;28mlist\u001b[39m, \u001b[38;5;28mtuple\u001b[39m, np\u001b[38;5;241m.\u001b[39mndarray)):\n\u001b[1;32m     58\u001b[0m     \u001b[38;5;28;01mreturn\u001b[39;00m [_todict(v, validate, context) \u001b[38;5;28;01mfor\u001b[39;00m v \u001b[38;5;129;01min\u001b[39;00m obj]\n",
      "File \u001b[0;32m/Library/Frameworks/Python.framework/Versions/3.10/lib/python3.10/site-packages/altair/vegalite/v4/schema/channels.py:40\u001b[0m, in \u001b[0;36mFieldChannelMixin.to_dict\u001b[0;34m(self, validate, ignore, context)\u001b[0m\n\u001b[1;32m     38\u001b[0m \u001b[38;5;28;01melif\u001b[39;00m \u001b[38;5;129;01mnot\u001b[39;00m (type_in_shorthand \u001b[38;5;129;01mor\u001b[39;00m type_defined_explicitly):\n\u001b[1;32m     39\u001b[0m     \u001b[38;5;28;01mif\u001b[39;00m \u001b[38;5;28misinstance\u001b[39m(context\u001b[38;5;241m.\u001b[39mget(\u001b[38;5;124m'\u001b[39m\u001b[38;5;124mdata\u001b[39m\u001b[38;5;124m'\u001b[39m, \u001b[38;5;28;01mNone\u001b[39;00m), pd\u001b[38;5;241m.\u001b[39mDataFrame):\n\u001b[0;32m---> 40\u001b[0m         \u001b[38;5;28;01mraise\u001b[39;00m \u001b[38;5;167;01mValueError\u001b[39;00m(\u001b[38;5;124m\"\u001b[39m\u001b[38;5;132;01m{}\u001b[39;00m\u001b[38;5;124m encoding field is specified without a type; \u001b[39m\u001b[38;5;124m\"\u001b[39m\n\u001b[1;32m     41\u001b[0m                          \u001b[38;5;124m\"\u001b[39m\u001b[38;5;124mthe type cannot be inferred because it does not \u001b[39m\u001b[38;5;124m\"\u001b[39m\n\u001b[1;32m     42\u001b[0m                          \u001b[38;5;124m\"\u001b[39m\u001b[38;5;124mmatch any column in the data.\u001b[39m\u001b[38;5;124m\"\u001b[39m\u001b[38;5;241m.\u001b[39mformat(shorthand))\n\u001b[1;32m     43\u001b[0m     \u001b[38;5;28;01melse\u001b[39;00m:\n\u001b[1;32m     44\u001b[0m         \u001b[38;5;28;01mraise\u001b[39;00m \u001b[38;5;167;01mValueError\u001b[39;00m(\u001b[38;5;124m\"\u001b[39m\u001b[38;5;132;01m{}\u001b[39;00m\u001b[38;5;124m encoding field is specified without a type; \u001b[39m\u001b[38;5;124m\"\u001b[39m\n\u001b[1;32m     45\u001b[0m                          \u001b[38;5;124m\"\u001b[39m\u001b[38;5;124mthe type cannot be automatically inferred because \u001b[39m\u001b[38;5;124m\"\u001b[39m\n\u001b[1;32m     46\u001b[0m                          \u001b[38;5;124m\"\u001b[39m\u001b[38;5;124mthe data is not specified as a pandas.DataFrame.\u001b[39m\u001b[38;5;124m\"\u001b[39m\n\u001b[1;32m     47\u001b[0m                          \u001b[38;5;124m\"\u001b[39m\u001b[38;5;124m\"\u001b[39m\u001b[38;5;241m.\u001b[39mformat(shorthand))\n",
      "\u001b[0;31mValueError\u001b[0m: Dollar Amount ($) encoding field is specified without a type; the type cannot be inferred because it does not match any column in the data."
     ]
    },
    {
     "data": {
      "text/plain": [
       "alt.Chart(...)"
      ]
     },
     "execution_count": 31,
     "metadata": {},
     "output_type": "execute_result"
    }
   ],
   "source": [
    "\n",
    "\n",
    "base = alt.Chart(findf)\n",
    "\n",
    "bars = base.mark_bar(color = '#aec7e8').encode(\n",
    "    x=alt.X('Component:N',axis=alt.Axis(title='Home Cost Component')),\n",
    "    y=alt.Y('Value:Q',axis=alt.Axis(title='Dollar Amount'), sort='-x'),\n",
    "    tooltip=alt.Tooltip('Value ($)', format=\"$,.0f\")\n",
    ")\n",
    "\n",
    "# showing the histogram\n",
    "#hist\n",
    "return_chart = alt.layer(bars).configure_axis(\n",
    "    grid=False\n",
    ").configure_view(\n",
    "    strokeWidth=0\n",
    ").properties(\n",
    "    width=700,\n",
    "    height=350,\n",
    "    title=\"Test\"\n",
    ")\n",
    "\n",
    "bars\n"
   ]
  },
  {
   "cell_type": "code",
   "execution_count": null,
   "id": "1fc00122",
   "metadata": {},
   "outputs": [],
   "source": []
  },
  {
   "cell_type": "code",
   "execution_count": 4,
   "id": "13d1e81d",
   "metadata": {},
   "outputs": [
    {
     "name": "stderr",
     "output_type": "stream",
     "text": [
      "/Library/Frameworks/Python.framework/Versions/3.10/lib/python3.10/site-packages/altair/utils/core.py:317: FutureWarning: iteritems is deprecated and will be removed in a future version. Use .items instead.\n",
      "  for col_name, dtype in df.dtypes.iteritems():\n"
     ]
    },
    {
     "data": {
      "text/html": [
       "\n",
       "<div id=\"altair-viz-01546010539c4b10a619c69653ea0d80\"></div>\n",
       "<script type=\"text/javascript\">\n",
       "  var VEGA_DEBUG = (typeof VEGA_DEBUG == \"undefined\") ? {} : VEGA_DEBUG;\n",
       "  (function(spec, embedOpt){\n",
       "    let outputDiv = document.currentScript.previousElementSibling;\n",
       "    if (outputDiv.id !== \"altair-viz-01546010539c4b10a619c69653ea0d80\") {\n",
       "      outputDiv = document.getElementById(\"altair-viz-01546010539c4b10a619c69653ea0d80\");\n",
       "    }\n",
       "    const paths = {\n",
       "      \"vega\": \"https://cdn.jsdelivr.net/npm//vega@5?noext\",\n",
       "      \"vega-lib\": \"https://cdn.jsdelivr.net/npm//vega-lib?noext\",\n",
       "      \"vega-lite\": \"https://cdn.jsdelivr.net/npm//vega-lite@4.17.0?noext\",\n",
       "      \"vega-embed\": \"https://cdn.jsdelivr.net/npm//vega-embed@6?noext\",\n",
       "    };\n",
       "\n",
       "    function maybeLoadScript(lib, version) {\n",
       "      var key = `${lib.replace(\"-\", \"\")}_version`;\n",
       "      return (VEGA_DEBUG[key] == version) ?\n",
       "        Promise.resolve(paths[lib]) :\n",
       "        new Promise(function(resolve, reject) {\n",
       "          var s = document.createElement('script');\n",
       "          document.getElementsByTagName(\"head\")[0].appendChild(s);\n",
       "          s.async = true;\n",
       "          s.onload = () => {\n",
       "            VEGA_DEBUG[key] = version;\n",
       "            return resolve(paths[lib]);\n",
       "          };\n",
       "          s.onerror = () => reject(`Error loading script: ${paths[lib]}`);\n",
       "          s.src = paths[lib];\n",
       "        });\n",
       "    }\n",
       "\n",
       "    function showError(err) {\n",
       "      outputDiv.innerHTML = `<div class=\"error\" style=\"color:red;\">${err}</div>`;\n",
       "      throw err;\n",
       "    }\n",
       "\n",
       "    function displayChart(vegaEmbed) {\n",
       "      vegaEmbed(outputDiv, spec, embedOpt)\n",
       "        .catch(err => showError(`Javascript Error: ${err.message}<br>This usually means there's a typo in your chart specification. See the javascript console for the full traceback.`));\n",
       "    }\n",
       "\n",
       "    if(typeof define === \"function\" && define.amd) {\n",
       "      requirejs.config({paths});\n",
       "      require([\"vega-embed\"], displayChart, err => showError(`Error loading script: ${err.message}`));\n",
       "    } else {\n",
       "      maybeLoadScript(\"vega\", \"5\")\n",
       "        .then(() => maybeLoadScript(\"vega-lite\", \"4.17.0\"))\n",
       "        .then(() => maybeLoadScript(\"vega-embed\", \"6\"))\n",
       "        .catch(showError)\n",
       "        .then(() => displayChart(vegaEmbed));\n",
       "    }\n",
       "  })({\"config\": {\"view\": {\"continuousWidth\": 400, \"continuousHeight\": 300}}, \"vconcat\": [{\"hconcat\": [{\"data\": {\"name\": \"data-2b74306621ad9773664babe893c9648b\"}, \"mark\": {\"type\": \"bar\", \"size\": 35}, \"encoding\": {\"color\": {\"field\": \"column\", \"legend\": {\"direction\": \"horizontal\", \"legendX\": 85, \"legendY\": -20, \"orient\": \"none\", \"title\": null, \"titleAnchor\": \"middle\"}, \"scale\": {\"range\": [\"#778ba5\", \"#02075d\"]}, \"type\": \"nominal\"}, \"order\": {\"field\": \"column\", \"sort\": \"ascending\", \"type\": \"nominal\"}, \"tooltip\": [{\"field\": \"NAFTA Total Trade\", \"format\": \"$,.0f\", \"type\": \"quantitative\"}, {\"field\": \"World Total Trade\", \"format\": \"$,.0f\", \"type\": \"quantitative\"}, {\"field\": \"NAFTA Total Trade %\", \"type\": \"quantitative\"}, {\"field\": \"World Total Trade %\", \"type\": \"quantitative\"}], \"x\": {\"field\": \"year\", \"type\": \"nominal\"}, \"y\": {\"axis\": {\"labelExpr\": \"\\\"$\\\" + datum.value / 1E3 + \\\"B\\\"\", \"title\": \"Total Trade ($B)\"}, \"field\": \"value\", \"scale\": {\"domain\": [0, 6500000]}, \"type\": \"quantitative\"}}, \"height\": 250, \"title\": \"North America Trade - World vs Inter\", \"transform\": [{\"fold\": [\"World Total Trade\", \"NAFTA Total Trade\"], \"as\": [\"column\", \"value\"]}], \"width\": 350}, {\"layer\": [{\"mark\": \"line\", \"encoding\": {\"color\": {\"field\": \"Continent\", \"type\": \"nominal\"}, \"tooltip\": {\"field\": \"Total Trade ($M)\", \"format\": \"$,.0f\", \"type\": \"quantitative\"}, \"x\": {\"axis\": {\"title\": \"Year\"}, \"field\": \"Year\", \"type\": \"nominal\"}, \"y\": {\"axis\": {\"labelExpr\": \"\\\"$\\\" + datum.value / 1E3 + \\\"B\\\"\", \"title\": \"Total Trade ($B)\"}, \"field\": \"Total Trade ($M)\", \"type\": \"quantitative\"}}, \"height\": 250, \"selection\": {\"selector002\": {\"type\": \"single\", \"fields\": [\"Trade Group\"], \"bind\": {\"input\": \"select\", \"options\": [\"Mexico\", \"United States\", \"Canada\", \"NAFTA\"], \"name\": \"Trade Group\"}, \"init\": {\"Trade Group\": \"Mexico\"}}}, \"title\": \"NAFTA Trade by Continent 2014 to 2020\", \"transform\": [{\"filter\": {\"selection\": \"selector002\"}}], \"width\": 350}, {\"mark\": {\"type\": \"circle\", \"color\": \"red\", \"opacity\": 0.0, \"size\": 1000}, \"encoding\": {\"tooltip\": [{\"field\": \"Continent\", \"type\": \"nominal\"}, {\"field\": \"Total Trade ($M)\", \"format\": \"$,.0f\", \"type\": \"quantitative\"}, {\"field\": \"Year\", \"type\": \"nominal\"}], \"x\": {\"axis\": {\"title\": \"\"}, \"field\": \"Year\", \"type\": \"nominal\"}, \"y\": {\"axis\": {\"title\": \"\"}, \"field\": \"Total Trade ($M)\", \"type\": \"quantitative\"}}}], \"data\": {\"name\": \"data-63a3a4042b6c3cd55518b1158235e740\"}, \"height\": 250, \"title\": \"NAFTA Trade by Continent\", \"transform\": [{\"filter\": {\"selection\": \"selector002\"}}], \"width\": 350}], \"resolve\": {\"scale\": {\"color\": \"independent\"}}}], \"$schema\": \"https://vega.github.io/schema/vega-lite/v4.17.0.json\", \"datasets\": {\"data-2b74306621ad9773664babe893c9648b\": [{\"Top20group\": \"NAFTA\", \"year\": 2014, \"NAFTA Imports %\": 36.13, \"World Imports %\": 63.87, \"NAFTA Exports %\": 47.81, \"World Exports %\": 52.19, \"NAFTA Total Trade %\": 41.16, \"World Total Trade %\": 58.84, \"NAFTA Imports\": 1153182.2, \"World Imports\": 2038696.1400000001, \"NAFTA Exports\": 1153182.2, \"World Exports\": 1259019.4799999997, \"NAFTA Total Trade\": 2306364.4, \"World Total Trade\": 3297715.5900000003}, {\"Top20group\": \"NAFTA\", \"year\": 2015, \"NAFTA Imports %\": 34.87, \"World Imports %\": 65.13, \"NAFTA Exports %\": 47.66, \"World Exports %\": 52.34, \"NAFTA Total Trade %\": 40.27, \"World Total Trade %\": 59.73, \"NAFTA Imports\": 1060850.5, \"World Imports\": 1981552.0300000003, \"NAFTA Exports\": 1060850.5, \"World Exports\": 1164817.1600000008, \"NAFTA Total Trade\": 2121701.0, \"World Total Trade\": 3146369.219999999}, {\"Top20group\": \"NAFTA\", \"year\": 2016, \"NAFTA Imports %\": 34.44, \"World Imports %\": 65.56, \"NAFTA Exports %\": 47.78, \"World Exports %\": 52.22, \"NAFTA Total Trade %\": 40.03, \"World Total Trade %\": 59.97, \"NAFTA Imports\": 1022015.4, \"World Imports\": 1945185.4199999988, \"NAFTA Exports\": 1022015.4, \"World Exports\": 1117183.1500000001, \"NAFTA Total Trade\": 2044030.8, \"World Total Trade\": 3062368.4399999995}, {\"Top20group\": \"NAFTA\", \"year\": 2017, \"NAFTA Imports %\": 34.42, \"World Imports %\": 65.58, \"NAFTA Exports %\": 47.35, \"World Exports %\": 52.65, \"NAFTA Total Trade %\": 39.86, \"World Total Trade %\": 60.14, \"NAFTA Imports\": 1094977.2, \"World Imports\": 2086283.7800000007, \"NAFTA Exports\": 1094977.2, \"World Exports\": 1217784.4000000004, \"NAFTA Total Trade\": 2189954.4, \"World Total Trade\": 3304068.4300000006}, {\"Top20group\": \"NAFTA\", \"year\": 2018, \"NAFTA Imports %\": 34.33, \"World Imports %\": 65.67, \"NAFTA Exports %\": 47.02, \"World Exports %\": 52.98, \"NAFTA Total Trade %\": 39.68, \"World Total Trade %\": 60.32, \"NAFTA Imports\": 1184269.2, \"World Imports\": 2265519.679999998, \"NAFTA Exports\": 1184269.2, \"World Exports\": 1334492.7600000007, \"NAFTA Total Trade\": 2368538.4, \"World Total Trade\": 3600012.42}, {\"Top20group\": \"NAFTA\", \"year\": 2019, \"NAFTA Imports %\": 34.87, \"World Imports %\": 65.13, \"NAFTA Exports %\": 47.25, \"World Exports %\": 52.75, \"NAFTA Total Trade %\": 40.12, \"World Total Trade %\": 59.88, \"NAFTA Imports\": 1179003.1, \"World Imports\": 2202391.5600000005, \"NAFTA Exports\": 1179003.1, \"World Exports\": 1316314.7400000007, \"NAFTA Total Trade\": 2358006.2, \"World Total Trade\": 3518706.2799999975}, {\"Top20group\": \"NAFTA\", \"year\": 2020, \"NAFTA Imports %\": 32.87, \"World Imports %\": 67.13, \"NAFTA Exports %\": 46.61, \"World Exports %\": 53.39, \"NAFTA Total Trade %\": 38.55, \"World Total Trade %\": 61.45, \"NAFTA Imports\": 1015344.57, \"World Imports\": 2073598.2000000007, \"NAFTA Exports\": 1015344.5700000001, \"World Exports\": 1162889.2299999997, \"NAFTA Total Trade\": 2030689.14, \"World Total Trade\": 3236487.3199999966}], \"data-63a3a4042b6c3cd55518b1158235e740\": [{\"Trade Group\": \"Canada\", \"Continent\": \"Asia\", \"Year\": 2014, \"Exports ($M)\": 49882.54, \"Imports ($M)\": 92949.33999999998, \"Net Exports ($M)\": -43066.829999999994, \"Total Trade ($M)\": 142831.86, \"Continent Trade Rank\": 1.0}, {\"Trade Group\": \"Canada\", \"Continent\": \"Asia\", \"Year\": 2015, \"Exports ($M)\": 44914.89000000001, \"Imports ($M)\": 90621.78000000001, \"Net Exports ($M)\": -45706.91, \"Total Trade ($M)\": 135536.69, \"Continent Trade Rank\": 1.0}, {\"Trade Group\": \"Canada\", \"Continent\": \"Asia\", \"Year\": 2016, \"Exports ($M)\": 42212.92, \"Imports ($M)\": 90476.47000000002, \"Net Exports ($M)\": -48263.56, \"Total Trade ($M)\": 132689.40000000002, \"Continent Trade Rank\": 1.0}, {\"Trade Group\": \"Canada\", \"Continent\": \"Asia\", \"Year\": 2017, \"Exports ($M)\": 49790.78, \"Imports ($M)\": 98087.31999999999, \"Net Exports ($M)\": -48296.55000000001, \"Total Trade ($M)\": 147878.13, \"Continent Trade Rank\": 1.0}, {\"Trade Group\": \"Canada\", \"Continent\": \"Asia\", \"Year\": 2018, \"Exports ($M)\": 59487.28000000001, \"Imports ($M)\": 103774.72999999998, \"Net Exports ($M)\": -44287.460000000014, \"Total Trade ($M)\": 163262.01999999993, \"Continent Trade Rank\": 1.0}, {\"Trade Group\": \"Canada\", \"Continent\": \"Asia\", \"Year\": 2019, \"Exports ($M)\": 60984.72000000001, \"Imports ($M)\": 103325.19999999998, \"Net Exports ($M)\": -42340.489999999976, \"Total Trade ($M)\": 164309.94, \"Continent Trade Rank\": 1.0}, {\"Trade Group\": \"Canada\", \"Continent\": \"Asia\", \"Year\": 2020, \"Exports ($M)\": 47144.98, \"Imports ($M)\": 100674.82999999996, \"Net Exports ($M)\": -53529.82999999999, \"Total Trade ($M)\": 147819.79000000007, \"Continent Trade Rank\": 1.0}, {\"Trade Group\": \"Canada\", \"Continent\": \"Europe\", \"Year\": 2014, \"Exports ($M)\": 43707.33999999999, \"Imports ($M)\": 63363.390000000014, \"Net Exports ($M)\": -19656.06, \"Total Trade ($M)\": 107070.74999999999, \"Continent Trade Rank\": 1.0}, {\"Trade Group\": \"Canada\", \"Continent\": \"Europe\", \"Year\": 2015, \"Exports ($M)\": 36242.70999999999, \"Imports ($M)\": 59304.94999999998, \"Net Exports ($M)\": -23062.21000000001, \"Total Trade ($M)\": 95547.64999999998, \"Continent Trade Rank\": 1.0}, {\"Trade Group\": \"Canada\", \"Continent\": \"Europe\", \"Year\": 2016, \"Exports ($M)\": 36941.040000000015, \"Imports ($M)\": 56877.17, \"Net Exports ($M)\": -19936.119999999988, \"Total Trade ($M)\": 93818.21000000004, \"Continent Trade Rank\": 1.0}, {\"Trade Group\": \"Canada\", \"Continent\": \"Europe\", \"Year\": 2017, \"Exports ($M)\": 42987.88999999999, \"Imports ($M)\": 62766.48000000002, \"Net Exports ($M)\": -19778.560000000005, \"Total Trade ($M)\": 105754.39000000004, \"Continent Trade Rank\": 1.0}, {\"Trade Group\": \"Canada\", \"Continent\": \"Europe\", \"Year\": 2018, \"Exports ($M)\": 44320.56000000001, \"Imports ($M)\": 69536.69000000002, \"Net Exports ($M)\": -25216.12, \"Total Trade ($M)\": 113857.24, \"Continent Trade Rank\": 1.0}, {\"Trade Group\": \"Canada\", \"Continent\": \"Europe\", \"Year\": 2019, \"Exports ($M)\": 45852.25000000001, \"Imports ($M)\": 70985.67000000004, \"Net Exports ($M)\": -25133.419999999995, \"Total Trade ($M)\": 116837.89999999997, \"Continent Trade Rank\": 1.0}, {\"Trade Group\": \"Canada\", \"Continent\": \"Europe\", \"Year\": 2020, \"Exports ($M)\": 45013.83, \"Imports ($M)\": 62561.74999999999, \"Net Exports ($M)\": -17547.919999999995, \"Total Trade ($M)\": 107575.61000000002, \"Continent Trade Rank\": 1.0}, {\"Trade Group\": \"Canada\", \"Continent\": \"North America\", \"Year\": 2014, \"Exports ($M)\": 358445.6, \"Imports ($M)\": 293667.6, \"Net Exports ($M)\": 64778.0, \"Total Trade ($M)\": 652113.2, \"Continent Trade Rank\": 1.0}, {\"Trade Group\": \"Canada\", \"Continent\": \"North America\", \"Year\": 2015, \"Exports ($M)\": 305735.2, \"Imports ($M)\": 262353.3, \"Net Exports ($M)\": 43381.9, \"Total Trade ($M)\": 568088.5, \"Continent Trade Rank\": 1.0}, {\"Trade Group\": \"Canada\", \"Continent\": \"North America\", \"Year\": 2016, \"Exports ($M)\": 288276.9, \"Imports ($M)\": 249298.5, \"Net Exports ($M)\": 38978.4, \"Total Trade ($M)\": 537575.4, \"Continent Trade Rank\": 1.0}, {\"Trade Group\": \"Canada\", \"Continent\": \"North America\", \"Year\": 2017, \"Exports ($M)\": 310350.5, \"Imports ($M)\": 264353.7, \"Net Exports ($M)\": 45996.8, \"Total Trade ($M)\": 574704.2, \"Continent Trade Rank\": 1.0}, {\"Trade Group\": \"Canada\", \"Continent\": \"North America\", \"Year\": 2018, \"Exports ($M)\": 329899.5, \"Imports ($M)\": 279063.7, \"Net Exports ($M)\": 50835.8, \"Total Trade ($M)\": 608963.2, \"Continent Trade Rank\": 1.0}, {\"Trade Group\": \"Canada\", \"Continent\": \"North America\", \"Year\": 2019, \"Exports ($M)\": 330165.7, \"Imports ($M)\": 272642.4, \"Net Exports ($M)\": 57523.3, \"Total Trade ($M)\": 602808.1, \"Continent Trade Rank\": 1.0}, {\"Trade Group\": \"Canada\", \"Continent\": \"North America\", \"Year\": 2020, \"Exports ($M)\": 279207.27, \"Imports ($M)\": 232915.3, \"Net Exports ($M)\": 46291.97, \"Total Trade ($M)\": 512122.57, \"Continent Trade Rank\": 1.0}, {\"Trade Group\": \"Canada\", \"Continent\": \"Other\", \"Year\": 2014, \"Exports ($M)\": 12627.519999999997, \"Imports ($M)\": 18688.8, \"Net Exports ($M)\": -6061.250000000001, \"Total Trade ($M)\": 31316.329999999998, \"Continent Trade Rank\": 1.0}, {\"Trade Group\": \"Canada\", \"Continent\": \"Other\", \"Year\": 2015, \"Exports ($M)\": 12469.410000000009, \"Imports ($M)\": 13295.569999999998, \"Net Exports ($M)\": -826.1499999999994, \"Total Trade ($M)\": 25764.970000000005, \"Continent Trade Rank\": 1.0}, {\"Trade Group\": \"Canada\", \"Continent\": \"Other\", \"Year\": 2016, \"Exports ($M)\": 10591.690000000006, \"Imports ($M)\": 14013.290000000005, \"Net Exports ($M)\": -3421.4499999999994, \"Total Trade ($M)\": 24604.850000000013, \"Continent Trade Rank\": 1.0}, {\"Trade Group\": \"Canada\", \"Continent\": \"Other\", \"Year\": 2017, \"Exports ($M)\": 11119.589999999995, \"Imports ($M)\": 14521.629999999996, \"Net Exports ($M)\": -3402.04, \"Total Trade ($M)\": 25641.260000000006, \"Continent Trade Rank\": 1.0}, {\"Trade Group\": \"Canada\", \"Continent\": \"Other\", \"Year\": 2018, \"Exports ($M)\": 11701.580000000005, \"Imports ($M)\": 14554.370000000003, \"Net Exports ($M)\": -2852.8400000000006, \"Total Trade ($M)\": 26255.94999999999, \"Continent Trade Rank\": 1.0}, {\"Trade Group\": \"Canada\", \"Continent\": \"Other\", \"Year\": 2019, \"Exports ($M)\": 12990.249999999995, \"Imports ($M)\": 13280.26, \"Net Exports ($M)\": -290.0000000000002, \"Total Trade ($M)\": 26270.52999999999, \"Continent Trade Rank\": 1.0}, {\"Trade Group\": \"Canada\", \"Continent\": \"Other\", \"Year\": 2020, \"Exports ($M)\": 11405.329999999998, \"Imports ($M)\": 13216.119999999997, \"Net Exports ($M)\": -1810.8200000000008, \"Total Trade ($M)\": 24621.390000000007, \"Continent Trade Rank\": 1.0}, {\"Trade Group\": \"Canada\", \"Continent\": \"South America\", \"Year\": 2014, \"Exports ($M)\": 8019.839999999999, \"Imports ($M)\": 11376.999999999998, \"Net Exports ($M)\": -3357.1700000000005, \"Total Trade ($M)\": 19396.809999999998, \"Continent Trade Rank\": 1.0}, {\"Trade Group\": \"Canada\", \"Continent\": \"South America\", \"Year\": 2015, \"Exports ($M)\": 6528.670000000001, \"Imports ($M)\": 10257.150000000001, \"Net Exports ($M)\": -3728.4800000000005, \"Total Trade ($M)\": 16785.809999999998, \"Continent Trade Rank\": 1.0}, {\"Trade Group\": \"Canada\", \"Continent\": \"South America\", \"Year\": 2016, \"Exports ($M)\": 5105.999999999999, \"Imports ($M)\": 8835.130000000001, \"Net Exports ($M)\": -3729.1600000000008, \"Total Trade ($M)\": 13941.119999999999, \"Continent Trade Rank\": 1.0}, {\"Trade Group\": \"Canada\", \"Continent\": \"South America\", \"Year\": 2017, \"Exports ($M)\": 5472.620000000002, \"Imports ($M)\": 9775.34, \"Net Exports ($M)\": -4302.730000000001, \"Total Trade ($M)\": 15247.97, \"Continent Trade Rank\": 1.0}, {\"Trade Group\": \"Canada\", \"Continent\": \"South America\", \"Year\": 2018, \"Exports ($M)\": 5867.140000000001, \"Imports ($M)\": 9914.33, \"Net Exports ($M)\": -4047.19, \"Total Trade ($M)\": 15781.470000000001, \"Continent Trade Rank\": 1.0}, {\"Trade Group\": \"Canada\", \"Continent\": \"South America\", \"Year\": 2019, \"Exports ($M)\": 5681.659999999998, \"Imports ($M)\": 10369.83, \"Net Exports ($M)\": -4688.16, \"Total Trade ($M)\": 16051.48, \"Continent Trade Rank\": 1.0}, {\"Trade Group\": \"Canada\", \"Continent\": \"South America\", \"Year\": 2020, \"Exports ($M)\": 4946.83, \"Imports ($M)\": 11136.070000000002, \"Net Exports ($M)\": -6189.24, \"Total Trade ($M)\": 16082.890000000001, \"Continent Trade Rank\": 1.0}, {\"Trade Group\": \"Mexico\", \"Continent\": \"Asia\", \"Year\": 2014, \"Exports ($M)\": 27403.859999999997, \"Imports ($M)\": 124188.35, \"Net Exports ($M)\": -96784.49999999999, \"Total Trade ($M)\": 151592.19999999998, \"Continent Trade Rank\": 1.0}, {\"Trade Group\": \"Mexico\", \"Continent\": \"Asia\", \"Year\": 2015, \"Exports ($M)\": 25455.090000000004, \"Imports ($M)\": 135267.32000000004, \"Net Exports ($M)\": -109812.22000000002, \"Total Trade ($M)\": 160722.41000000003, \"Continent Trade Rank\": 1.0}, {\"Trade Group\": \"Mexico\", \"Continent\": \"Asia\", \"Year\": 2016, \"Exports ($M)\": 26353.110000000008, \"Imports ($M)\": 136210.04000000004, \"Net Exports ($M)\": -109856.88999999998, \"Total Trade ($M)\": 162563.15999999995, \"Continent Trade Rank\": 1.0}, {\"Trade Group\": \"Mexico\", \"Continent\": \"Asia\", \"Year\": 2017, \"Exports ($M)\": 30479.189999999995, \"Imports ($M)\": 146056.75999999995, \"Net Exports ($M)\": -115577.56999999999, \"Total Trade ($M)\": 176535.94999999998, \"Continent Trade Rank\": 1.0}, {\"Trade Group\": \"Mexico\", \"Continent\": \"Asia\", \"Year\": 2018, \"Exports ($M)\": 36550.210000000014, \"Imports ($M)\": 160173.77000000008, \"Net Exports ($M)\": -123623.61000000003, \"Total Trade ($M)\": 196724.0, \"Continent Trade Rank\": 1.0}, {\"Trade Group\": \"Mexico\", \"Continent\": \"Asia\", \"Year\": 2019, \"Exports ($M)\": 37474.88999999998, \"Imports ($M)\": 164641.17999999996, \"Net Exports ($M)\": -127166.32999999997, \"Total Trade ($M)\": 202116.06999999995, \"Continent Trade Rank\": 1.0}, {\"Trade Group\": \"Mexico\", \"Continent\": \"Asia\", \"Year\": 2020, \"Exports ($M)\": 36073.939999999995, \"Imports ($M)\": 144473.37999999995, \"Net Exports ($M)\": -108399.47999999997, \"Total Trade ($M)\": 180547.35000000003, \"Continent Trade Rank\": 1.0}, {\"Trade Group\": \"Mexico\", \"Continent\": \"Europe\", \"Year\": 2014, \"Exports ($M)\": 28118.3, \"Imports ($M)\": 52188.51, \"Net Exports ($M)\": -24070.250000000004, \"Total Trade ($M)\": 80306.82, \"Continent Trade Rank\": 1.0}, {\"Trade Group\": \"Mexico\", \"Continent\": \"Europe\", \"Year\": 2015, \"Exports ($M)\": 25267.480000000003, \"Imports ($M)\": 51638.45000000001, \"Net Exports ($M)\": -26371.00999999999, \"Total Trade ($M)\": 76905.94999999997, \"Continent Trade Rank\": 1.0}, {\"Trade Group\": \"Mexico\", \"Continent\": \"Europe\", \"Year\": 2016, \"Exports ($M)\": 26008.370000000006, \"Imports ($M)\": 50012.969999999994, \"Net Exports ($M)\": -24004.600000000013, \"Total Trade ($M)\": 76021.33000000003, \"Continent Trade Rank\": 1.0}, {\"Trade Group\": \"Mexico\", \"Continent\": \"Europe\", \"Year\": 2017, \"Exports ($M)\": 30937.91, \"Imports ($M)\": 57197.900000000016, \"Net Exports ($M)\": -26260.029999999995, \"Total Trade ($M)\": 88135.82, \"Continent Trade Rank\": 1.0}, {\"Trade Group\": \"Mexico\", \"Continent\": \"Europe\", \"Year\": 2018, \"Exports ($M)\": 34389.0, \"Imports ($M)\": 62408.52999999999, \"Net Exports ($M)\": -28019.499999999996, \"Total Trade ($M)\": 96797.5, \"Continent Trade Rank\": 1.0}, {\"Trade Group\": \"Mexico\", \"Continent\": \"Europe\", \"Year\": 2019, \"Exports ($M)\": 34147.51000000001, \"Imports ($M)\": 59850.930000000015, \"Net Exports ($M)\": -25703.48000000001, \"Total Trade ($M)\": 93998.44999999998, \"Continent Trade Rank\": 1.0}, {\"Trade Group\": \"Mexico\", \"Continent\": \"Europe\", \"Year\": 2020, \"Exports ($M)\": 30196.000000000004, \"Imports ($M)\": 48815.38000000004, \"Net Exports ($M)\": -18619.31999999999, \"Total Trade ($M)\": 79011.38, \"Continent Trade Rank\": 1.0}, {\"Trade Group\": \"Mexico\", \"Continent\": \"North America\", \"Year\": 2014, \"Exports ($M)\": 321625.6, \"Imports ($M)\": 217642.6, \"Net Exports ($M)\": 103983.0, \"Total Trade ($M)\": 539268.2, \"Continent Trade Rank\": 1.0}, {\"Trade Group\": \"Mexico\", \"Continent\": \"North America\", \"Year\": 2015, \"Exports ($M)\": 320574.3, \"Imports ($M)\": 208566.2, \"Net Exports ($M)\": 112008.1, \"Total Trade ($M)\": 529140.5, \"Continent Trade Rank\": 1.0}, {\"Trade Group\": \"Mexico\", \"Continent\": \"North America\", \"Year\": 2016, \"Exports ($M)\": 320682.5, \"Imports ($M)\": 200498.9, \"Net Exports ($M)\": 120183.6, \"Total Trade ($M)\": 521181.4, \"Continent Trade Rank\": 1.0}, {\"Trade Group\": \"Mexico\", \"Continent\": \"North America\", \"Year\": 2017, \"Exports ($M)\": 342788.7, \"Imports ($M)\": 216603.5, \"Net Exports ($M)\": 126185.2, \"Total Trade ($M)\": 559392.2, \"Continent Trade Rank\": 1.0}, {\"Trade Group\": \"Mexico\", \"Continent\": \"North America\", \"Year\": 2018, \"Exports ($M)\": 376450.7, \"Imports ($M)\": 240196.5, \"Net Exports ($M)\": 136254.2, \"Total Trade ($M)\": 616647.2, \"Continent Trade Rank\": 1.0}, {\"Trade Group\": \"Mexico\", \"Continent\": \"North America\", \"Year\": 2019, \"Exports ($M)\": 387475.4, \"Imports ($M)\": 228498.7, \"Net Exports ($M)\": 158976.7, \"Total Trade ($M)\": 615974.1, \"Continent Trade Rank\": 1.0}, {\"Trade Group\": \"Mexico\", \"Continent\": \"North America\", \"Year\": 2020, \"Exports ($M)\": 348953.3, \"Imports ($M)\": 186653.27, \"Net Exports ($M)\": 162300.03, \"Total Trade ($M)\": 535606.57, \"Continent Trade Rank\": 1.0}, {\"Trade Group\": \"Mexico\", \"Continent\": \"Other\", \"Year\": 2014, \"Exports ($M)\": 14654.470000000001, \"Imports ($M)\": 7324.480000000003, \"Net Exports ($M)\": 7330.0099999999975, \"Total Trade ($M)\": 21978.930000000004, \"Continent Trade Rank\": 1.0}, {\"Trade Group\": \"Mexico\", \"Continent\": \"Other\", \"Year\": 2015, \"Exports ($M)\": 13846.799999999996, \"Imports ($M)\": 5241.789999999999, \"Net Exports ($M)\": 8605.010000000004, \"Total Trade ($M)\": 19088.629999999994, \"Continent Trade Rank\": 1.0}, {\"Trade Group\": \"Mexico\", \"Continent\": \"Other\", \"Year\": 2016, \"Exports ($M)\": 13253.539999999999, \"Imports ($M)\": 5176.7000000000035, \"Net Exports ($M)\": 8076.82, \"Total Trade ($M)\": 18430.249999999993, \"Continent Trade Rank\": 1.0}, {\"Trade Group\": \"Mexico\", \"Continent\": \"Other\", \"Year\": 2017, \"Exports ($M)\": 13825.529999999995, \"Imports ($M)\": 5300.6500000000015, \"Net Exports ($M)\": 8524.959999999994, \"Total Trade ($M)\": 19126.3, \"Continent Trade Rank\": 1.0}, {\"Trade Group\": \"Mexico\", \"Continent\": \"Other\", \"Year\": 2018, \"Exports ($M)\": 14632.619999999994, \"Imports ($M)\": 5684.990000000002, \"Net Exports ($M)\": 8947.609999999997, \"Total Trade ($M)\": 20317.649999999994, \"Continent Trade Rank\": 1.0}, {\"Trade Group\": \"Mexico\", \"Continent\": \"Other\", \"Year\": 2019, \"Exports ($M)\": 15037.559999999998, \"Imports ($M)\": 5896.880000000004, \"Net Exports ($M)\": 9140.809999999998, \"Total Trade ($M)\": 20934.38000000001, \"Continent Trade Rank\": 1.0}, {\"Trade Group\": \"Mexico\", \"Continent\": \"Other\", \"Year\": 2020, \"Exports ($M)\": 13328.86999999999, \"Imports ($M)\": 5461.010000000004, \"Net Exports ($M)\": 7867.859999999999, \"Total Trade ($M)\": 18789.849999999995, \"Continent Trade Rank\": 1.0}, {\"Trade Group\": \"Mexico\", \"Continent\": \"South America\", \"Year\": 2014, \"Exports ($M)\": 20963.35, \"Imports ($M)\": 10625.060000000001, \"Net Exports ($M)\": 10338.28, \"Total Trade ($M)\": 31588.409999999996, \"Continent Trade Rank\": 1.0}, {\"Trade Group\": \"Mexico\", \"Continent\": \"South America\", \"Year\": 2015, \"Exports ($M)\": 17461.89, \"Imports ($M)\": 10208.689999999999, \"Net Exports ($M)\": 7253.210000000002, \"Total Trade ($M)\": 27670.559999999998, \"Continent Trade Rank\": 1.0}, {\"Trade Group\": \"Mexico\", \"Continent\": \"South America\", \"Year\": 2016, \"Exports ($M)\": 14759.629999999997, \"Imports ($M)\": 10186.220000000001, \"Net Exports ($M)\": 4573.390000000001, \"Total Trade ($M)\": 24945.840000000004, \"Continent Trade Rank\": 1.0}, {\"Trade Group\": \"Mexico\", \"Continent\": \"South America\", \"Year\": 2017, \"Exports ($M)\": 16884.160000000003, \"Imports ($M)\": 11386.910000000002, \"Net Exports ($M)\": 5497.259999999999, \"Total Trade ($M)\": 28271.079999999998, \"Continent Trade Rank\": 1.0}, {\"Trade Group\": \"Mexico\", \"Continent\": \"South America\", \"Year\": 2018, \"Exports ($M)\": 18354.569999999996, \"Imports ($M)\": 12714.02, \"Net Exports ($M)\": 5640.54, \"Total Trade ($M)\": 31068.58, \"Continent Trade Rank\": 1.0}, {\"Trade Group\": \"Mexico\", \"Continent\": \"South America\", \"Year\": 2019, \"Exports ($M)\": 15384.380000000001, \"Imports ($M)\": 12505.720000000001, \"Net Exports ($M)\": 2878.6599999999994, \"Total Trade ($M)\": 27890.119999999995, \"Continent Trade Rank\": 1.0}, {\"Trade Group\": \"Mexico\", \"Continent\": \"South America\", \"Year\": 2020, \"Exports ($M)\": 11878.679999999997, \"Imports ($M)\": 10198.45, \"Net Exports ($M)\": 1680.24, \"Total Trade ($M)\": 22077.149999999998, \"Continent Trade Rank\": 1.0}, {\"Trade Group\": \"NAFTA\", \"Continent\": \"Asia\", \"Year\": 2014, \"Exports ($M)\": 490187.8200000002, \"Imports ($M)\": 1084138.7599999998, \"Net Exports ($M)\": -593950.9600000003, \"Total Trade ($M)\": 1574326.5500000003, \"Continent Trade Rank\": 2.0}, {\"Trade Group\": \"NAFTA\", \"Continent\": \"Asia\", \"Year\": 2015, \"Exports ($M)\": 467722.09, \"Imports ($M)\": 1123295.5999999994, \"Net Exports ($M)\": -655573.5200000001, \"Total Trade ($M)\": 1591017.6900000004, \"Continent Trade Rank\": 2.0}, {\"Trade Group\": \"NAFTA\", \"Continent\": \"Asia\", \"Year\": 2016, \"Exports ($M)\": 448665.75999999995, \"Imports ($M)\": 1112777.9000000004, \"Net Exports ($M)\": -664112.1399999999, \"Total Trade ($M)\": 1561443.6400000004, \"Continent Trade Rank\": 2.0}, {\"Trade Group\": \"NAFTA\", \"Continent\": \"Asia\", \"Year\": 2017, \"Exports ($M)\": 508764.50000000006, \"Imports ($M)\": 1192691.3200000005, \"Net Exports ($M)\": -683926.8099999998, \"Total Trade ($M)\": 1701455.84, \"Continent Trade Rank\": 2.0}, {\"Trade Group\": \"NAFTA\", \"Continent\": \"Asia\", \"Year\": 2018, \"Exports ($M)\": 568100.2900000003, \"Imports ($M)\": 1276250.16, \"Net Exports ($M)\": -708149.9499999997, \"Total Trade ($M)\": 1844350.4699999995, \"Continent Trade Rank\": 2.0}, {\"Trade Group\": \"NAFTA\", \"Continent\": \"Asia\", \"Year\": 2019, \"Exports ($M)\": 542655.0100000004, \"Imports ($M)\": 1220200.4900000005, \"Net Exports ($M)\": -677545.52, \"Total Trade ($M)\": 1762855.5200000005, \"Continent Trade Rank\": 2.0}, {\"Trade Group\": \"NAFTA\", \"Continent\": \"Asia\", \"Year\": 2020, \"Exports ($M)\": 491744.77, \"Imports ($M)\": 1175763.7000000002, \"Net Exports ($M)\": -684018.9499999998, \"Total Trade ($M)\": 1667508.45, \"Continent Trade Rank\": 2.0}, {\"Trade Group\": \"NAFTA\", \"Continent\": \"Europe\", \"Year\": 2014, \"Exports ($M)\": 420547.53999999986, \"Imports ($M)\": 626850.6900000001, \"Net Exports ($M)\": -206303.23, \"Total Trade ($M)\": 1047398.2399999998, \"Continent Trade Rank\": 3.0}, {\"Trade Group\": \"NAFTA\", \"Continent\": \"Europe\", \"Year\": 2015, \"Exports ($M)\": 397390.1600000001, \"Imports ($M)\": 624361.5599999999, \"Net Exports ($M)\": -226971.40000000008, \"Total Trade ($M)\": 1021751.7300000002, \"Continent Trade Rank\": 3.0}, {\"Trade Group\": \"NAFTA\", \"Continent\": \"Europe\", \"Year\": 2016, \"Exports ($M)\": 401382.9899999999, \"Imports ($M)\": 611498.31, \"Net Exports ($M)\": -210115.29999999996, \"Total Trade ($M)\": 1012881.2800000001, \"Continent Trade Rank\": 3.0}, {\"Trade Group\": \"NAFTA\", \"Continent\": \"Europe\", \"Year\": 2017, \"Exports ($M)\": 427979.66000000003, \"Imports ($M)\": 647105.7799999998, \"Net Exports ($M)\": -219126.13999999998, \"Total Trade ($M)\": 1075085.4800000007, \"Continent Trade Rank\": 3.0}, {\"Trade Group\": \"NAFTA\", \"Continent\": \"Europe\", \"Year\": 2018, \"Exports ($M)\": 465688.68, \"Imports ($M)\": 724263.4900000001, \"Net Exports ($M)\": -258574.75999999998, \"Total Trade ($M)\": 1189952.1, \"Continent Trade Rank\": 3.0}, {\"Trade Group\": \"NAFTA\", \"Continent\": \"Europe\", \"Year\": 2019, \"Exports ($M)\": 481535.48000000004, \"Imports ($M)\": 752779.9800000002, \"Net Exports ($M)\": -271244.56999999995, \"Total Trade ($M)\": 1234315.4599999995, \"Continent Trade Rank\": 3.0}, {\"Trade Group\": \"NAFTA\", \"Continent\": \"Europe\", \"Year\": 2020, \"Exports ($M)\": 429594.2400000002, \"Imports ($M)\": 702272.7399999999, \"Net Exports ($M)\": -272678.45999999996, \"Total Trade ($M)\": 1131866.9900000002, \"Continent Trade Rank\": 3.0}, {\"Trade Group\": \"NAFTA\", \"Continent\": \"North America\", \"Year\": 2014, \"Exports ($M)\": 1153182.2, \"Imports ($M)\": 1153182.2, \"Net Exports ($M)\": 0.0, \"Total Trade ($M)\": 2306364.4, \"Continent Trade Rank\": 1.0}, {\"Trade Group\": \"NAFTA\", \"Continent\": \"North America\", \"Year\": 2015, \"Exports ($M)\": 1060850.5, \"Imports ($M)\": 1060850.5, \"Net Exports ($M)\": 0.0, \"Total Trade ($M)\": 2121701.0, \"Continent Trade Rank\": 1.0}, {\"Trade Group\": \"NAFTA\", \"Continent\": \"North America\", \"Year\": 2016, \"Exports ($M)\": 1022015.4, \"Imports ($M)\": 1022015.4, \"Net Exports ($M)\": 0.0, \"Total Trade ($M)\": 2044030.8, \"Continent Trade Rank\": 1.0}, {\"Trade Group\": \"NAFTA\", \"Continent\": \"North America\", \"Year\": 2017, \"Exports ($M)\": 1094977.2, \"Imports ($M)\": 1094977.2, \"Net Exports ($M)\": 0.0, \"Total Trade ($M)\": 2189954.4, \"Continent Trade Rank\": 1.0}, {\"Trade Group\": \"NAFTA\", \"Continent\": \"North America\", \"Year\": 2018, \"Exports ($M)\": 1184269.2, \"Imports ($M)\": 1184269.2, \"Net Exports ($M)\": 0.0, \"Total Trade ($M)\": 2368538.4, \"Continent Trade Rank\": 1.0}, {\"Trade Group\": \"NAFTA\", \"Continent\": \"North America\", \"Year\": 2019, \"Exports ($M)\": 1179003.1, \"Imports ($M)\": 1179003.1, \"Net Exports ($M)\": 0.0, \"Total Trade ($M)\": 2358006.2, \"Continent Trade Rank\": 1.0}, {\"Trade Group\": \"NAFTA\", \"Continent\": \"North America\", \"Year\": 2020, \"Exports ($M)\": 1015344.5700000001, \"Imports ($M)\": 1015344.5700000001, \"Net Exports ($M)\": 0.0, \"Total Trade ($M)\": 2030689.1400000001, \"Continent Trade Rank\": 1.0}, {\"Trade Group\": \"NAFTA\", \"Continent\": \"Other\", \"Year\": 2014, \"Exports ($M)\": 203983.66000000006, \"Imports ($M)\": 192627.15999999983, \"Net Exports ($M)\": 11356.499999999996, \"Total Trade ($M)\": 396610.8700000002, \"Continent Trade Rank\": 4.0}, {\"Trade Group\": \"NAFTA\", \"Continent\": \"Other\", \"Year\": 2015, \"Exports ($M)\": 183013.2, \"Imports ($M)\": 128513.96999999999, \"Net Exports ($M)\": 54499.24999999998, \"Total Trade ($M)\": 311527.22000000015, \"Continent Trade Rank\": 4.0}, {\"Trade Group\": \"NAFTA\", \"Continent\": \"Other\", \"Year\": 2016, \"Exports ($M)\": 169290.9899999999, \"Imports ($M)\": 123138.96, \"Net Exports ($M)\": 46152.160000000025, \"Total Trade ($M)\": 292429.8699999999, \"Continent Trade Rank\": 4.0}, {\"Trade Group\": \"NAFTA\", \"Continent\": \"Other\", \"Year\": 2017, \"Exports ($M)\": 176084.89999999988, \"Imports ($M)\": 138813.31000000003, \"Net Exports ($M)\": 37271.63000000002, \"Total Trade ($M)\": 314898.3899999999, \"Continent Trade Rank\": 4.0}, {\"Trade Group\": \"NAFTA\", \"Continent\": \"Other\", \"Year\": 2018, \"Exports ($M)\": 181953.05, \"Imports ($M)\": 151565.04, \"Net Exports ($M)\": 30387.969999999998, \"Total Trade ($M)\": 333518.14000000013, \"Continent Trade Rank\": 4.0}, {\"Trade Group\": \"NAFTA\", \"Continent\": \"Other\", \"Year\": 2019, \"Exports ($M)\": 181669.44000000006, \"Imports ($M)\": 129485.89999999995, \"Net Exports ($M)\": 52183.659999999996, \"Total Trade ($M)\": 311155.3, \"Continent Trade Rank\": 4.0}, {\"Trade Group\": \"NAFTA\", \"Continent\": \"Other\", \"Year\": 2020, \"Exports ($M)\": 154053.10000000003, \"Imports ($M)\": 112688.88999999997, \"Net Exports ($M)\": 41364.23, \"Total Trade ($M)\": 266741.8800000001, \"Continent Trade Rank\": 4.0}, {\"Trade Group\": \"NAFTA\", \"Continent\": \"South America\", \"Year\": 2014, \"Exports ($M)\": 144263.03, \"Imports ($M)\": 135073.37000000002, \"Net Exports ($M)\": 9189.639999999998, \"Total Trade ($M)\": 279336.36, \"Continent Trade Rank\": 5.0}, {\"Trade Group\": \"NAFTA\", \"Continent\": \"South America\", \"Year\": 2015, \"Exports ($M)\": 116648.15000000001, \"Imports ($M)\": 105361.37, \"Net Exports ($M)\": 11286.8, \"Total Trade ($M)\": 222009.49000000002, \"Continent Trade Rank\": 5.0}, {\"Trade Group\": \"NAFTA\", \"Continent\": \"South America\", \"Year\": 2016, \"Exports ($M)\": 97818.04000000001, \"Imports ($M)\": 97756.62000000001, \"Net Exports ($M)\": 61.39999999999884, \"Total Trade ($M)\": 195574.63999999998, \"Continent Trade Rank\": 5.0}, {\"Trade Group\": \"NAFTA\", \"Continent\": \"South America\", \"Year\": 2017, \"Exports ($M)\": 104931.96999999999, \"Imports ($M)\": 107653.26999999999, \"Net Exports ($M)\": -2721.3100000000018, \"Total Trade ($M)\": 212585.26, \"Continent Trade Rank\": 5.0}, {\"Trade Group\": \"NAFTA\", \"Continent\": \"South America\", \"Year\": 2018, \"Exports ($M)\": 118730.74999999996, \"Imports ($M)\": 113423.91, \"Net Exports ($M)\": 5306.839999999999, \"Total Trade ($M)\": 232154.63999999998, \"Continent Trade Rank\": 5.0}, {\"Trade Group\": \"NAFTA\", \"Continent\": \"South America\", \"Year\": 2019, \"Exports ($M)\": 110425.51999999999, \"Imports ($M)\": 99897.61999999998, \"Net Exports ($M)\": 10527.9, \"Total Trade ($M)\": 210323.13999999998, \"Continent Trade Rank\": 5.0}, {\"Trade Group\": \"NAFTA\", \"Continent\": \"South America\", \"Year\": 2020, \"Exports ($M)\": 87484.39, \"Imports ($M)\": 82841.39999999998, \"Net Exports ($M)\": 4642.99, \"Total Trade ($M)\": 170325.8, \"Continent Trade Rank\": 5.0}, {\"Trade Group\": \"United States\", \"Continent\": \"Asia\", \"Year\": 2014, \"Exports ($M)\": 412901.42000000016, \"Imports ($M)\": 867001.07, \"Net Exports ($M)\": -454099.62999999995, \"Total Trade ($M)\": 1279902.4900000002, \"Continent Trade Rank\": 1.0}, {\"Trade Group\": \"United States\", \"Continent\": \"Asia\", \"Year\": 2015, \"Exports ($M)\": 397352.11000000004, \"Imports ($M)\": 897406.4999999998, \"Net Exports ($M)\": -500054.3900000001, \"Total Trade ($M)\": 1294758.5900000003, \"Continent Trade Rank\": 1.0}, {\"Trade Group\": \"United States\", \"Continent\": \"Asia\", \"Year\": 2016, \"Exports ($M)\": 380099.72999999986, \"Imports ($M)\": 886091.3900000002, \"Net Exports ($M)\": -505991.69000000006, \"Total Trade ($M)\": 1266191.0800000003, \"Continent Trade Rank\": 1.0}, {\"Trade Group\": \"United States\", \"Continent\": \"Asia\", \"Year\": 2017, \"Exports ($M)\": 428494.53, \"Imports ($M)\": 948547.2400000001, \"Net Exports ($M)\": -520052.69, \"Total Trade ($M)\": 1377041.7600000002, \"Continent Trade Rank\": 1.0}, {\"Trade Group\": \"United States\", \"Continent\": \"Asia\", \"Year\": 2018, \"Exports ($M)\": 472062.79999999993, \"Imports ($M)\": 1012301.6600000001, \"Net Exports ($M)\": -540238.8799999998, \"Total Trade ($M)\": 1484364.4499999997, \"Continent Trade Rank\": 1.0}, {\"Trade Group\": \"United States\", \"Continent\": \"Asia\", \"Year\": 2019, \"Exports ($M)\": 444195.4, \"Imports ($M)\": 952234.1099999998, \"Net Exports ($M)\": -508038.69999999995, \"Total Trade ($M)\": 1396429.5100000002, \"Continent Trade Rank\": 1.0}, {\"Trade Group\": \"United States\", \"Continent\": \"Asia\", \"Year\": 2020, \"Exports ($M)\": 408525.85, \"Imports ($M)\": 930615.4900000001, \"Net Exports ($M)\": -522089.6400000001, \"Total Trade ($M)\": 1339141.3099999996, \"Continent Trade Rank\": 1.0}, {\"Trade Group\": \"United States\", \"Continent\": \"Europe\", \"Year\": 2014, \"Exports ($M)\": 348721.89999999985, \"Imports ($M)\": 511298.7899999999, \"Net Exports ($M)\": -162576.92000000004, \"Total Trade ($M)\": 860020.6699999999, \"Continent Trade Rank\": 1.0}, {\"Trade Group\": \"United States\", \"Continent\": \"Europe\", \"Year\": 2015, \"Exports ($M)\": 335879.97000000015, \"Imports ($M)\": 513418.1600000001, \"Net Exports ($M)\": -177538.18000000005, \"Total Trade ($M)\": 849298.1300000002, \"Continent Trade Rank\": 1.0}, {\"Trade Group\": \"United States\", \"Continent\": \"Europe\", \"Year\": 2016, \"Exports ($M)\": 338433.57999999984, \"Imports ($M)\": 504608.17000000004, \"Net Exports ($M)\": -166174.58000000002, \"Total Trade ($M)\": 843041.7400000002, \"Continent Trade Rank\": 1.0}, {\"Trade Group\": \"United States\", \"Continent\": \"Europe\", \"Year\": 2017, \"Exports ($M)\": 354053.86000000004, \"Imports ($M)\": 527141.3999999999, \"Net Exports ($M)\": -173087.55000000002, \"Total Trade ($M)\": 881195.2699999999, \"Continent Trade Rank\": 1.0}, {\"Trade Group\": \"United States\", \"Continent\": \"Europe\", \"Year\": 2018, \"Exports ($M)\": 386979.11999999994, \"Imports ($M)\": 592318.2700000003, \"Net Exports ($M)\": -205339.13999999998, \"Total Trade ($M)\": 979297.3599999998, \"Continent Trade Rank\": 1.0}, {\"Trade Group\": \"United States\", \"Continent\": \"Europe\", \"Year\": 2019, \"Exports ($M)\": 401535.72000000003, \"Imports ($M)\": 621943.3800000002, \"Net Exports ($M)\": -220407.66999999995, \"Total Trade ($M)\": 1023479.1099999998, \"Continent Trade Rank\": 1.0}, {\"Trade Group\": \"United States\", \"Continent\": \"Europe\", \"Year\": 2020, \"Exports ($M)\": 354384.4100000002, \"Imports ($M)\": 590895.61, \"Net Exports ($M)\": -236511.22, \"Total Trade ($M)\": 945280.0, \"Continent Trade Rank\": 1.0}, {\"Trade Group\": \"United States\", \"Continent\": \"North America\", \"Year\": 2014, \"Exports ($M)\": 473111.0, \"Imports ($M)\": 641872.0, \"Net Exports ($M)\": -168761.0, \"Total Trade ($M)\": 1114983.0, \"Continent Trade Rank\": 1.0}, {\"Trade Group\": \"United States\", \"Continent\": \"North America\", \"Year\": 2015, \"Exports ($M)\": 434541.0, \"Imports ($M)\": 589931.0, \"Net Exports ($M)\": -155390.0, \"Total Trade ($M)\": 1024472.0, \"Continent Trade Rank\": 1.0}, {\"Trade Group\": \"United States\", \"Continent\": \"North America\", \"Year\": 2016, \"Exports ($M)\": 413056.0, \"Imports ($M)\": 572218.0, \"Net Exports ($M)\": -159162.0, \"Total Trade ($M)\": 985274.0, \"Continent Trade Rank\": 1.0}, {\"Trade Group\": \"United States\", \"Continent\": \"North America\", \"Year\": 2017, \"Exports ($M)\": 441838.0, \"Imports ($M)\": 614020.0, \"Net Exports ($M)\": -172182.0, \"Total Trade ($M)\": 1055858.0, \"Continent Trade Rank\": 1.0}, {\"Trade Group\": \"United States\", \"Continent\": \"North America\", \"Year\": 2018, \"Exports ($M)\": 477919.0, \"Imports ($M)\": 665009.0, \"Net Exports ($M)\": -187090.0, \"Total Trade ($M)\": 1142928.0, \"Continent Trade Rank\": 1.0}, {\"Trade Group\": \"United States\", \"Continent\": \"North America\", \"Year\": 2019, \"Exports ($M)\": 461362.0, \"Imports ($M)\": 677862.0, \"Net Exports ($M)\": -216500.0, \"Total Trade ($M)\": 1139224.0, \"Continent Trade Rank\": 1.0}, {\"Trade Group\": \"United States\", \"Continent\": \"North America\", \"Year\": 2020, \"Exports ($M)\": 387184.0, \"Imports ($M)\": 595776.0, \"Net Exports ($M)\": -208592.0, \"Total Trade ($M)\": 982960.0, \"Continent Trade Rank\": 1.0}, {\"Trade Group\": \"United States\", \"Continent\": \"Other\", \"Year\": 2014, \"Exports ($M)\": 176701.67000000004, \"Imports ($M)\": 166613.87999999983, \"Net Exports ($M)\": 10087.740000000002, \"Total Trade ($M)\": 343315.6100000003, \"Continent Trade Rank\": 1.0}, {\"Trade Group\": \"United States\", \"Continent\": \"Other\", \"Year\": 2015, \"Exports ($M)\": 156696.99000000005, \"Imports ($M)\": 109976.61000000002, \"Net Exports ($M)\": 46720.389999999985, \"Total Trade ($M)\": 266673.62, \"Continent Trade Rank\": 1.0}, {\"Trade Group\": \"United States\", \"Continent\": \"Other\", \"Year\": 2016, \"Exports ($M)\": 145445.75999999992, \"Imports ($M)\": 103948.96999999999, \"Net Exports ($M)\": 41496.79000000002, \"Total Trade ($M)\": 249394.7700000002, \"Continent Trade Rank\": 1.0}, {\"Trade Group\": \"United States\", \"Continent\": \"Other\", \"Year\": 2017, \"Exports ($M)\": 151139.7799999999, \"Imports ($M)\": 118991.02999999997, \"Net Exports ($M)\": 32148.70999999999, \"Total Trade ($M)\": 270130.8299999999, \"Continent Trade Rank\": 1.0}, {\"Trade Group\": \"United States\", \"Continent\": \"Other\", \"Year\": 2018, \"Exports ($M)\": 155618.85, \"Imports ($M)\": 131325.68000000002, \"Net Exports ($M)\": 24293.199999999997, \"Total Trade ($M)\": 286944.5400000001, \"Continent Trade Rank\": 1.0}, {\"Trade Group\": \"United States\", \"Continent\": \"Other\", \"Year\": 2019, \"Exports ($M)\": 153641.63000000003, \"Imports ($M)\": 110308.75999999998, \"Net Exports ($M)\": 43332.85, \"Total Trade ($M)\": 263950.39000000013, \"Continent Trade Rank\": 1.0}, {\"Trade Group\": \"United States\", \"Continent\": \"Other\", \"Year\": 2020, \"Exports ($M)\": 129318.90000000001, \"Imports ($M)\": 94011.75999999997, \"Net Exports ($M)\": 35307.19000000001, \"Total Trade ($M)\": 223330.63999999993, \"Continent Trade Rank\": 1.0}, {\"Trade Group\": \"United States\", \"Continent\": \"South America\", \"Year\": 2014, \"Exports ($M)\": 115279.84000000001, \"Imports ($M)\": 113071.31, \"Net Exports ($M)\": 2208.529999999999, \"Total Trade ($M)\": 228351.13999999998, \"Continent Trade Rank\": 1.0}, {\"Trade Group\": \"United States\", \"Continent\": \"South America\", \"Year\": 2015, \"Exports ($M)\": 92657.59000000001, \"Imports ($M)\": 84895.52999999998, \"Net Exports ($M)\": 7762.069999999999, \"Total Trade ($M)\": 177553.12000000002, \"Continent Trade Rank\": 1.0}, {\"Trade Group\": \"United States\", \"Continent\": \"South America\", \"Year\": 2016, \"Exports ($M)\": 77952.41000000003, \"Imports ($M)\": 78735.27, \"Net Exports ($M)\": -782.8300000000006, \"Total Trade ($M)\": 156687.68, \"Continent Trade Rank\": 1.0}, {\"Trade Group\": \"United States\", \"Continent\": \"South America\", \"Year\": 2017, \"Exports ($M)\": 82575.18999999996, \"Imports ($M)\": 86491.01999999999, \"Net Exports ($M)\": -3915.840000000001, \"Total Trade ($M)\": 169066.21, \"Continent Trade Rank\": 1.0}, {\"Trade Group\": \"United States\", \"Continent\": \"South America\", \"Year\": 2018, \"Exports ($M)\": 94509.04, \"Imports ($M)\": 90795.56, \"Net Exports ($M)\": 3713.49, \"Total Trade ($M)\": 185304.59, \"Continent Trade Rank\": 1.0}, {\"Trade Group\": \"United States\", \"Continent\": \"South America\", \"Year\": 2019, \"Exports ($M)\": 89359.48, \"Imports ($M)\": 77022.06999999999, \"Net Exports ($M)\": 12337.400000000001, \"Total Trade ($M)\": 166381.54000000004, \"Continent Trade Rank\": 1.0}, {\"Trade Group\": \"United States\", \"Continent\": \"South America\", \"Year\": 2020, \"Exports ($M)\": 70658.88, \"Imports ($M)\": 61506.88, \"Net Exports ($M)\": 9151.989999999998, \"Total Trade ($M)\": 132165.75999999998, \"Continent Trade Rank\": 1.0}]}}, {\"mode\": \"vega-lite\"});\n",
       "</script>"
      ],
      "text/plain": [
       "alt.VConcatChart(...)"
      ]
     },
     "execution_count": 4,
     "metadata": {},
     "output_type": "execute_result"
    }
   ],
   "source": [
    "my_altair.get_nafta_section_1_1()\n"
   ]
  },
  {
   "cell_type": "code",
   "execution_count": 2,
   "id": "b6fa4ab3",
   "metadata": {},
   "outputs": [
    {
     "ename": "NameError",
     "evalue": "name 'my_data' is not defined",
     "output_type": "error",
     "traceback": [
      "\u001b[0;31m---------------------------------------------------------------------------\u001b[0m",
      "\u001b[0;31mNameError\u001b[0m                                 Traceback (most recent call last)",
      "Cell \u001b[0;32mIn [2], line 1\u001b[0m\n\u001b[0;32m----> 1\u001b[0m my_data\u001b[38;5;241m.\u001b[39mget_nafta_by_country()\n",
      "\u001b[0;31mNameError\u001b[0m: name 'my_data' is not defined"
     ]
    }
   ],
   "source": [
    "my_data.get_nafta_by_country()"
   ]
  },
  {
   "cell_type": "code",
   "execution_count": null,
   "id": "e977c01b",
   "metadata": {},
   "outputs": [],
   "source": []
  },
  {
   "cell_type": "code",
   "execution_count": null,
   "id": "5383b6a2",
   "metadata": {
    "scrolled": false
   },
   "outputs": [],
   "source": [
    "my_altair.get_eu_section_1()"
   ]
  },
  {
   "cell_type": "code",
   "execution_count": null,
   "id": "21f9a8a5",
   "metadata": {},
   "outputs": [],
   "source": []
  },
  {
   "cell_type": "code",
   "execution_count": null,
   "id": "cbfd6e58",
   "metadata": {},
   "outputs": [],
   "source": [
    "#print(my_data.get_gdp_data_by_country(\"United States\").head())\n",
    "my_altair.get_time_series_gdp_chart(\"United States\")"
   ]
  },
  {
   "cell_type": "code",
   "execution_count": null,
   "id": "8cc20678",
   "metadata": {},
   "outputs": [],
   "source": [
    "my_altair.get_time_series_gdp_compare_chart(\"United States\",\"China\")"
   ]
  },
  {
   "cell_type": "code",
   "execution_count": null,
   "id": "9b981488",
   "metadata": {
    "hide_input": false
   },
   "outputs": [],
   "source": [
    "from libraries.import_export_data_objects import import_export_data as Import_Export_Data\n",
    "from libraries.altair_renderings import AltairRenderings\n",
    "from libraries.utility import Utility\n",
    "import os\n",
    "import altair as alt\n",
    "my_altair = AltairRenderings()\n",
    "my_data = Import_Export_Data()\n",
    "\n",
    "source_country = \"United States\"\n",
    "target_country = \"China\"\n",
    "\n",
    "\n",
    "\n",
    "my_chart = my_altair.get_charts_for_click_from_world_map(source_country)\n",
    "my_chart\n",
    "\n",
    "my_chart = my_altair.get_charts_for_country_dill_down(source_country,target_country,width=350,height=200)\n",
    "my_chart\n",
    "\n",
    "print(my_data.load_exchange_rate_data().head(10))\n",
    "\n",
    "print(my_data.load_and_clean_up_top_20_file().head(10))\n",
    "print(my_data.load_and_clean_up_WTO_file().head(10))\n",
    "print(my_data.load_and_clean_up_GDP_file().head(10))"
   ]
  },
  {
   "cell_type": "code",
   "execution_count": null,
   "id": "f5ad11af",
   "metadata": {},
   "outputs": [],
   "source": [
    "my_altair.get_altaire_bar_top5_partners(source_country)"
   ]
  },
  {
   "cell_type": "code",
   "execution_count": null,
   "id": "ed0fbccf",
   "metadata": {},
   "outputs": [],
   "source": [
    "import altair as alt\n",
    "from vega_datasets import data\n",
    "\n",
    "source = data.cars()\n",
    "\n",
    "# Brush for selection\n",
    "brush = alt.selection(type='interval')\n",
    "\n",
    "# Scatter Plot\n",
    "points = alt.Chart(source).mark_point().encode(\n",
    "    x='Horsepower:Q',\n",
    "    y='Miles_per_Gallon:Q',\n",
    "    color=alt.condition(brush, 'Cylinders:O', alt.value('grey'))\n",
    ").add_selection(brush)\n",
    "\n",
    "# Base chart for data tables\n",
    "ranked_text = alt.Chart(source).mark_text().encode(\n",
    "    y=alt.Y('row_number:O',axis=None)\n",
    ").transform_window(\n",
    "    row_number='row_number()'\n",
    ").transform_filter(\n",
    "    brush\n",
    ").transform_window(\n",
    "    rank='rank(row_number)'\n",
    ").transform_filter(\n",
    "    alt.datum.rank<20\n",
    ")\n",
    "\n",
    "# Data Tables\n",
    "horsepower = ranked_text.encode(text='Horsepower:N').properties(title='Horsepower')\n",
    "mpg = ranked_text.encode(text='Miles_per_Gallon:N').properties(title='MPG')\n",
    "origin = ranked_text.encode(text='Origin:N').properties(title='Origin')\n",
    "text = alt.hconcat(horsepower, mpg, origin) # Combine data tables\n",
    "\n",
    "# Build chart\n",
    "alt.hconcat(\n",
    "    points,\n",
    "    text\n",
    ").resolve_legend(\n",
    "    color=\"independent\"\n",
    ")"
   ]
  },
  {
   "cell_type": "code",
   "execution_count": null,
   "id": "636766a3",
   "metadata": {},
   "outputs": [],
   "source": []
  },
  {
   "cell_type": "code",
   "execution_count": null,
   "id": "748ddbfa",
   "metadata": {},
   "outputs": [],
   "source": [
    "import altair as alt\n",
    "from vega_datasets import data\n",
    "\n",
    "source = data.population.url\n",
    "\n",
    "pink_blue = alt.Scale(domain=('Male', 'Female'),\n",
    "                      range=[\"steelblue\", \"salmon\"])\n",
    "\n",
    "slider = alt.binding_range(min=1900, max=2000, step=10)\n",
    "select_year = alt.selection_single(name=\"year\", fields=['year'],\n",
    "                                   bind=slider, init={'year': 2000})\n",
    "\n",
    "alt.Chart(source).mark_bar().encode(\n",
    "    x=alt.X('sex:N', title=None),\n",
    "    y=alt.Y('people:Q', scale=alt.Scale(domain=(0, 12000000))),\n",
    "    color=alt.Color('sex:N', scale=pink_blue),\n",
    "    column='age:O'\n",
    ").properties(\n",
    "    width=20\n",
    ").add_selection(\n",
    "    select_year\n",
    ").transform_calculate(\n",
    "    \"sex\", alt.expr.if_(alt.datum.sex == 1, \"Male\", \"Female\")\n",
    ").transform_filter(\n",
    "    select_year\n",
    ").configure_facet(\n",
    "    spacing=8\n",
    ")"
   ]
  },
  {
   "cell_type": "code",
   "execution_count": null,
   "id": "2278c7c8",
   "metadata": {
    "scrolled": true
   },
   "outputs": [],
   "source": [
    "top5_partners"
   ]
  },
  {
   "cell_type": "code",
   "execution_count": null,
   "id": "3667bd9b",
   "metadata": {},
   "outputs": [],
   "source": [
    "my_data_object = Import_Export_Data()\n",
    "\n",
    "exports_data = my_data_object.get_top5data_by_imports_exports(source_country, 'exports')\n",
    "exports_data.head(1000)"
   ]
  },
  {
   "cell_type": "code",
   "execution_count": null,
   "id": "7a5e8db6",
   "metadata": {},
   "outputs": [],
   "source": [
    "my_data_object.get_top_trading_and_net_value(\"Australia\").head(100)"
   ]
  },
  {
   "cell_type": "code",
   "execution_count": null,
   "id": "8753e8bc",
   "metadata": {},
   "outputs": [],
   "source": [
    "my_altair.get_import_export_balance_top_five(\"Australia\")"
   ]
  },
  {
   "cell_type": "code",
   "execution_count": null,
   "id": "0c8caad9",
   "metadata": {},
   "outputs": [],
   "source": [
    "from vega_datasets import data\n",
    "import numpy as np\n",
    "\n",
    "world_map_source = alt.topo_feature(data.world_110m.url, 'countries')\n",
    "\n",
    "\n",
    "\n",
    "country_source = my_data_object.get_world_countries_by_iso_label()\n",
    "\n",
    "\n",
    "foreground = (\n",
    "    alt.Chart(world_map_source)\n",
    "    .mark_geoshape(fill='lightgray', stroke=\"black\", strokeWidth=1)\n",
    "    .encode(\n",
    "        tooltip=[\n",
    "            alt.Tooltip(\"Country:N\", title=\"Country\")\n",
    "        ],\n",
    "    )\n",
    "    .transform_lookup(\n",
    "        lookup=\"id\",\n",
    "        from_=alt.LookupData(country_source, \"id\", [\"Country\"]),\n",
    "    )\n",
    ")\n",
    "\n",
    "my_map = (\n",
    "    (foreground)\n",
    "    .configure_view(strokeWidth=0)\n",
    "    .properties(width=900, height=400)\n",
    "    .project(\"mercator\", scale=185,center=np.array([24,12]))\n",
    ")\n",
    "#my_map = alt.concat(my_map,scale=160)\n",
    "\n",
    "utility = Utility()\n",
    "this_dir = utility.get_this_dir()\n",
    "file_name = os.path.join(this_dir,\"libraries\",\"world.json\")\n",
    "my_json = utility.get_data_from_file(file_name)\n",
    "#return my_json,my_map\n",
    "my_map"
   ]
  },
  {
   "cell_type": "code",
   "execution_count": null,
   "id": "64301b1e",
   "metadata": {},
   "outputs": [],
   "source": []
  },
  {
   "cell_type": "code",
   "execution_count": null,
   "id": "b63dbed4",
   "metadata": {},
   "outputs": [],
   "source": [
    "my_altair.my_new_map()"
   ]
  },
  {
   "cell_type": "code",
   "execution_count": null,
   "id": "9bd7b26e",
   "metadata": {},
   "outputs": [],
   "source": []
  }
 ],
 "metadata": {
  "kernelspec": {
   "display_name": "Python 3 (ipykernel)",
   "language": "python",
   "name": "python3"
  },
  "language_info": {
   "codemirror_mode": {
    "name": "ipython",
    "version": 3
   },
   "file_extension": ".py",
   "mimetype": "text/x-python",
   "name": "python",
   "nbconvert_exporter": "python",
   "pygments_lexer": "ipython3",
   "version": "3.10.3"
  }
 },
 "nbformat": 4,
 "nbformat_minor": 5
}
